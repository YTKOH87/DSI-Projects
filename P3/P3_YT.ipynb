{
 "cells": [
  {
   "cell_type": "markdown",
   "metadata": {},
   "source": [
    "# Executive Summary\n",
    "\n",
    "Depression and Anxiety are mental illnesses that are increasing. They are different illnesses and have different hallmarks but may share common features. By learning to identify them quickly through text, it can help to tailor the treatment for the individual showing signs of Depression or Anxiety. Early intervention aids in management of the condition and can help to prevent tragedies.\n",
    "\n",
    "Posts are took from Depression and Anxiety sub-reddits. These posts are used to infer that the individual could be displaying symptoms or signs of depression, likewise for Anxiety. Several models will be built and the accuracy will be used to evaluate the performance of the models. Accuracy is chosen as the main metric as it determines if the text came from Depression or Anxiety sub-reddit. The model with the highest accuracy score will be selected as the final model. The final model will be used to determine if the text is about depression or anxiety. \n",
    "\n",
    "Linear Regression model with CountVectorizer (lr_cvec) has been found to be the best model. If the text is about depression, lr_cvec can predict with 97.6% accuracy. Whereas, if the text is about anxiety, lr_cvec can predict with 93.1% accuracy.\n",
    "\n",
    "With this model, it is hoped that it will help the mental health practioners which include counsellors and psychiatrists to have a quick overview if the individual is leaning towards depression or anxiety behaviour. This will increase the chances of timely intervention and may help reduce the workload of the practioners so that they can reach out to more patients. \n",
    "\n"
   ]
  },
  {
   "cell_type": "markdown",
   "metadata": {},
   "source": [
    "# Table of Contents:\n",
    "- [Problem Statement](#Problem-Statement)\n",
    "- [Libraries](#Libraries)\n",
    "- [Webscrapping sub-Reddit Anxiety using API](#Webscrapping-sub-reddit-Anxiety-using-API)\n",
    "- [Extract relevant information from sub-Reddit Anxiety](#Extract-relevant-information-from-sub-Reddit-Anxiety)\n",
    "- [Webscrapping sub-Reddit Depression using API](#Webscrapping-sub-reddit-Depression-using-API)\n",
    "- [Extract relevant information from sub-Reddit Depression](#Extract-relevant-information-from-sub-Reddit-Depression)\n",
    "- [Exploratory Data Analysis](#Exploratory-Data-Analysis-and-Data-Cleaning)\n",
    "- [Pre-Processing for text data](#Pre-Processing-for-text-data)\n",
    "- [Modeling Process](#Modeling-using-Processed-Text)\n",
    "- [Modeling with Multinomial NaiveBayes model (nb) with CountVectorizer (cvec); (nb_cvec)](#Multinomial-NaiveBayes-model-with-CountVectorizer-(nb_cvec))\n",
    "- [Conclusion for nb_cvec](#Conclusion-for-nb_cvec)\n",
    "- [Increase stop words](#Increase-stop-words-list-to-remove-more-stop-words-to-try-reduce-overfitting-and-increase-accuracy)\n",
    "- [Re-model with nb_cvec using increased stop words](#Re-model-Multinomial-NaiveBayes-model-with-CountVectorizer-(nb_cvec)-with-clean_text_2)\n",
    "- [Conclusion for nb_cvec re-model with increased stop words](#Conclusion-for-nb_cvec-re-modelled-with-clean_text_2)\n",
    "- [Compare results between nb_cvec and nb_cvec re-model](#Comparison-between-results-using-clean_text-and-clean_text_2-modeled-with-nb_cvec)\n",
    "- [Summary of Comparison](#Summary-of-Comparison)\n",
    "- [Modeling with Multinomial NaiveBayes model (nb) with TF-IDF Vectorizer (tvec); (nb_tvec)](#Multinomial-NaiveBayes-model-with-TF-IDF-Vectorizer-(nb_tvec))\n",
    "- [Conclusion for nb_tvec](#Conclusion-for-nb_tvec)\n",
    "- [Modeling with Logistic Regression model (lr) with CountVectorizer (cvec); (lr_cvec)](#Logistic-Regression-model-with-CountVectorizer-(lr_cvec))\n",
    "- [Conclusion for lr_cvec](#Conclusion-for-lr_cvec)\n",
    "- [Modeling with Logistic Regression model (lr) with TF-IDF Vectorizer (tvec); (lr_tvec)](#Logistic-Regression-model-with-TF-IDF-Vectorizer-(lr_tvec))\n",
    "- [Conclusion for lr_tvec](#Conclusion-for-lr_tvec)\n",
    "- [Summary table for nb_cvec, nb_tvec, lr_cvec, lr_tvec](#Summary-table-for-nb_cvec,-nb_tvec,-lr_cvec,-lr_tvec)\n",
    "- [Results](#Results)\n",
    "- [Recommendations and Conclusion](#Recommendations-and-Conclusion)"
   ]
  },
  {
   "cell_type": "markdown",
   "metadata": {},
   "source": [
    "# Problem Statement\n",
    "\n",
    "I will be building models (naive bayes and logistic regression) which will be classifying and identifying if the text came from either the Anxiety or Depression sub-reddit. The success of the model will be evaluated on the accuracy, sensitivity and specificity. The test accuracy score for model should be at least 80%. For the sensitivity, it is used to determine how well the model can predict if the text came from Depression sub-reddit. For the specificity, it is used to determine how well the model can predict if the text came from Anxiety sub-reddit. Following that, I will look at the top 50 words that is most commonly used in the Depression sub-reddit and Anxiety sub-reddit. From the unique words for Depression and Anxiety, they help to tell us the different features between Anxiety and Depression.\n",
    "\n",
    "\n",
    "With this information, I hope it will help my target stakeholders, who are the mental health practioners which include counsellors and psychiatrists to have a quick overview if the individual is displaying signs or symptoms of Depression, Anxiety or both. It is hoped that the model can help to give some clues on the pyschological state of these individuals, how the words they used in their posts show if they are leaning towards depressed or anxiety behaviour."
   ]
  },
  {
   "cell_type": "markdown",
   "metadata": {},
   "source": [
    "# Libraries"
   ]
  },
  {
   "cell_type": "code",
   "execution_count": 1,
   "metadata": {},
   "outputs": [],
   "source": [
    "# Webscrapping\n",
    "import requests\n",
    "import time\n",
    "import random\n",
    "\n",
    "# dataframe\n",
    "import pandas as pd\n",
    "\n",
    "# math\n",
    "import numpy as np\n",
    "\n",
    "# visualization\n",
    "import matplotlib.pyplot as plt\n",
    "import seaborn as sns\n",
    "\n",
    "# modeling\n",
    "from sklearn.pipeline import Pipeline\n",
    "from sklearn.model_selection import train_test_split\n",
    "from sklearn.model_selection import GridSearchCV\n",
    "from sklearn.model_selection import RandomizedSearchCV\n",
    "\n",
    "# models\n",
    "from sklearn.naive_bayes import MultinomialNB\n",
    "from sklearn.linear_model import LogisticRegression\n",
    "\n",
    "# nltk (Natural Language tool kit)\n",
    "import nltk\n",
    "from nltk.tokenize import RegexpTokenizer\n",
    "from nltk.stem import WordNetLemmatizer\n",
    "\n",
    "# Import word library\n",
    "from nltk.corpus import wordnet\n",
    "# Import stopwords.\n",
    "from nltk.corpus import stopwords\n",
    "\n",
    "\n",
    "# vectorizers\n",
    "from sklearn.feature_extraction.text import CountVectorizer, TfidfVectorizer\n",
    "\n",
    "# confusion matrix\n",
    "from sklearn.metrics import confusion_matrix\n",
    "from sklearn.metrics import plot_confusion_matrix\n",
    "\n",
    "# regular expressions\n",
    "import re\n",
    "\n",
    "# time function\n",
    "import timeit\n"
   ]
  },
  {
   "cell_type": "markdown",
   "metadata": {},
   "source": [
    "# Webscrapping sub-reddit Anxiety using API"
   ]
  },
  {
   "cell_type": "markdown",
   "metadata": {},
   "source": [
    "* A loop is built using requests module and the randomized timer to scrape data from Anxiety sub-reddit sequentially using the reddit API.\n",
    "* The randomized timer is built in the loop to ensure that the server is not overloaded with requests and data is scrapped sequentially with pauses.\n",
    "* The codes for webscrapping Anxiety sub-reddit is put into the `P3 webscrapping codes`."
   ]
  },
  {
   "cell_type": "markdown",
   "metadata": {},
   "source": [
    "# Extract relevant information from sub-Reddit Anxiety"
   ]
  },
  {
   "cell_type": "markdown",
   "metadata": {},
   "source": [
    "* Only the title, subreddit and selftext information from the raw data is extracted. These columns contain raw text strings which can be used to train the machine."
   ]
  },
  {
   "cell_type": "code",
   "execution_count": 2,
   "metadata": {},
   "outputs": [],
   "source": [
    "# assigning anxiety to read data\n",
    "anxiety = pd.read_csv('anxiety_data.csv')"
   ]
  },
  {
   "cell_type": "code",
   "execution_count": 3,
   "metadata": {},
   "outputs": [
    {
     "data": {
      "text/html": [
       "<div>\n",
       "<style scoped>\n",
       "    .dataframe tbody tr th:only-of-type {\n",
       "        vertical-align: middle;\n",
       "    }\n",
       "\n",
       "    .dataframe tbody tr th {\n",
       "        vertical-align: top;\n",
       "    }\n",
       "\n",
       "    .dataframe thead th {\n",
       "        text-align: right;\n",
       "    }\n",
       "</style>\n",
       "<table border=\"1\" class=\"dataframe\">\n",
       "  <thead>\n",
       "    <tr style=\"text-align: right;\">\n",
       "      <th></th>\n",
       "      <th>title</th>\n",
       "      <th>subreddit</th>\n",
       "      <th>selftext</th>\n",
       "    </tr>\n",
       "  </thead>\n",
       "  <tbody>\n",
       "    <tr>\n",
       "      <th>0</th>\n",
       "      <td>2020 Umbrella Thread</td>\n",
       "      <td>Anxiety</td>\n",
       "      <td>With 2020 shaping up to be an extremely diffic...</td>\n",
       "    </tr>\n",
       "    <tr>\n",
       "      <th>1</th>\n",
       "      <td>Sunday General Chat Thread - November 29, 2020</td>\n",
       "      <td>Anxiety</td>\n",
       "      <td>\"Happy Sunday! What does your week look like?\\...</td>\n",
       "    </tr>\n",
       "    <tr>\n",
       "      <th>2</th>\n",
       "      <td>The worst thing about anxiety</td>\n",
       "      <td>Anxiety</td>\n",
       "      <td>You know what the worst thing about anxiety is...</td>\n",
       "    </tr>\n",
       "    <tr>\n",
       "      <th>3</th>\n",
       "      <td>Can’t Sleep! Can anyone else hear their heart ...</td>\n",
       "      <td>Anxiety</td>\n",
       "      <td>Been quite a stressful year but sleep has real...</td>\n",
       "    </tr>\n",
       "    <tr>\n",
       "      <th>4</th>\n",
       "      <td>The best method for beating my severe anxiety ...</td>\n",
       "      <td>Anxiety</td>\n",
       "      <td>I started medication, and it gave me a leg up,...</td>\n",
       "    </tr>\n",
       "    <tr>\n",
       "      <th>...</th>\n",
       "      <td>...</td>\n",
       "      <td>...</td>\n",
       "      <td>...</td>\n",
       "    </tr>\n",
       "    <tr>\n",
       "      <th>622</th>\n",
       "      <td>How do you cope?</td>\n",
       "      <td>Anxiety</td>\n",
       "      <td>I’ve had GAD since I was 12, but quarantine is...</td>\n",
       "    </tr>\n",
       "    <tr>\n",
       "      <th>623</th>\n",
       "      <td>PVCs</td>\n",
       "      <td>Anxiety</td>\n",
       "      <td>Does anyone else here get a ton of PVCs during...</td>\n",
       "    </tr>\n",
       "    <tr>\n",
       "      <th>624</th>\n",
       "      <td>Who else gets hit with an anxiety attack for n...</td>\n",
       "      <td>Anxiety</td>\n",
       "      <td>I feel like typically people have something th...</td>\n",
       "    </tr>\n",
       "    <tr>\n",
       "      <th>625</th>\n",
       "      <td>How to not take everything seriously</td>\n",
       "      <td>Anxiety</td>\n",
       "      <td>I take every single thing seriously. If a rand...</td>\n",
       "    </tr>\n",
       "    <tr>\n",
       "      <th>626</th>\n",
       "      <td>Coming to Accept That My Parents Played a Mass...</td>\n",
       "      <td>Anxiety</td>\n",
       "      <td>This is to vent more than anything. I need to ...</td>\n",
       "    </tr>\n",
       "  </tbody>\n",
       "</table>\n",
       "<p>627 rows × 3 columns</p>\n",
       "</div>"
      ],
      "text/plain": [
       "                                                 title subreddit  \\\n",
       "0                                 2020 Umbrella Thread   Anxiety   \n",
       "1       Sunday General Chat Thread - November 29, 2020   Anxiety   \n",
       "2                        The worst thing about anxiety   Anxiety   \n",
       "3    Can’t Sleep! Can anyone else hear their heart ...   Anxiety   \n",
       "4    The best method for beating my severe anxiety ...   Anxiety   \n",
       "..                                                 ...       ...   \n",
       "622                                   How do you cope?   Anxiety   \n",
       "623                                               PVCs   Anxiety   \n",
       "624  Who else gets hit with an anxiety attack for n...   Anxiety   \n",
       "625               How to not take everything seriously   Anxiety   \n",
       "626  Coming to Accept That My Parents Played a Mass...   Anxiety   \n",
       "\n",
       "                                              selftext  \n",
       "0    With 2020 shaping up to be an extremely diffic...  \n",
       "1    \"Happy Sunday! What does your week look like?\\...  \n",
       "2    You know what the worst thing about anxiety is...  \n",
       "3    Been quite a stressful year but sleep has real...  \n",
       "4    I started medication, and it gave me a leg up,...  \n",
       "..                                                 ...  \n",
       "622  I’ve had GAD since I was 12, but quarantine is...  \n",
       "623  Does anyone else here get a ton of PVCs during...  \n",
       "624  I feel like typically people have something th...  \n",
       "625  I take every single thing seriously. If a rand...  \n",
       "626  This is to vent more than anything. I need to ...  \n",
       "\n",
       "[627 rows x 3 columns]"
      ]
     },
     "execution_count": 3,
     "metadata": {},
     "output_type": "execute_result"
    }
   ],
   "source": [
    "# extract title, subreddit and selftext from dataframe and assign to anxiety_select\n",
    "anxiety_select = anxiety[['title','subreddit','selftext']]\n",
    "anxiety_select"
   ]
  },
  {
   "cell_type": "markdown",
   "metadata": {},
   "source": [
    "# Webscrapping sub-reddit Depression using API"
   ]
  },
  {
   "cell_type": "markdown",
   "metadata": {},
   "source": [
    "* A loop is built using requests module and the randomized timer to scrape data from Depression sub-reddit sequentially using the reddit API.\n",
    "* The randomized timer is built in the loop to ensure that the server is not overloaded with requests and data is scrapped sequentially with pauses.\n",
    "* The codes for webscrapping Depression sub-reddit is put into the P3 webscrapping codes."
   ]
  },
  {
   "cell_type": "markdown",
   "metadata": {},
   "source": [
    "# Extract relevant information from sub-Reddit Depression"
   ]
  },
  {
   "cell_type": "markdown",
   "metadata": {},
   "source": [
    "* Only the title, subreddit and selftext information from the raw data is extracted. These columns contain raw text strings which can be used to train the machine."
   ]
  },
  {
   "cell_type": "code",
   "execution_count": 4,
   "metadata": {},
   "outputs": [],
   "source": [
    "# assigning depression to read data\n",
    "depression = pd.read_csv('depression_data.csv')"
   ]
  },
  {
   "cell_type": "code",
   "execution_count": 5,
   "metadata": {},
   "outputs": [
    {
     "data": {
      "text/html": [
       "<div>\n",
       "<style scoped>\n",
       "    .dataframe tbody tr th:only-of-type {\n",
       "        vertical-align: middle;\n",
       "    }\n",
       "\n",
       "    .dataframe tbody tr th {\n",
       "        vertical-align: top;\n",
       "    }\n",
       "\n",
       "    .dataframe thead th {\n",
       "        text-align: right;\n",
       "    }\n",
       "</style>\n",
       "<table border=\"1\" class=\"dataframe\">\n",
       "  <thead>\n",
       "    <tr style=\"text-align: right;\">\n",
       "      <th></th>\n",
       "      <th>title</th>\n",
       "      <th>subreddit</th>\n",
       "      <th>selftext</th>\n",
       "    </tr>\n",
       "  </thead>\n",
       "  <tbody>\n",
       "    <tr>\n",
       "      <th>0</th>\n",
       "      <td>Our most-broken and least-understood rules is ...</td>\n",
       "      <td>depression</td>\n",
       "      <td>We understand that most people who reply immed...</td>\n",
       "    </tr>\n",
       "    <tr>\n",
       "      <th>1</th>\n",
       "      <td>Regular Check-In Post. Plus, a reminder about ...</td>\n",
       "      <td>depression</td>\n",
       "      <td>Welcome to /r/depression's check-in post - a p...</td>\n",
       "    </tr>\n",
       "    <tr>\n",
       "      <th>2</th>\n",
       "      <td>Not suicidal but just no desire to live each day</td>\n",
       "      <td>depression</td>\n",
       "      <td>I don’t wanna end it all, but I’m just tired o...</td>\n",
       "    </tr>\n",
       "    <tr>\n",
       "      <th>3</th>\n",
       "      <td>Do what works for you even if it's \"weird\"</td>\n",
       "      <td>depression</td>\n",
       "      <td>I spent so long trying to fight myself to do t...</td>\n",
       "    </tr>\n",
       "    <tr>\n",
       "      <th>4</th>\n",
       "      <td>Zero Motivation for School</td>\n",
       "      <td>depression</td>\n",
       "      <td>I’ve (21F) never been so unmotivated to do wor...</td>\n",
       "    </tr>\n",
       "    <tr>\n",
       "      <th>...</th>\n",
       "      <td>...</td>\n",
       "      <td>...</td>\n",
       "      <td>...</td>\n",
       "    </tr>\n",
       "    <tr>\n",
       "      <th>622</th>\n",
       "      <td>Uncertainty about the future</td>\n",
       "      <td>depression</td>\n",
       "      <td>I'm so scared about my future, I can't see mys...</td>\n",
       "    </tr>\n",
       "    <tr>\n",
       "      <th>623</th>\n",
       "      <td>My attempt TW: suicide</td>\n",
       "      <td>depression</td>\n",
       "      <td>I’ve never told anyone my story it’s been a co...</td>\n",
       "    </tr>\n",
       "    <tr>\n",
       "      <th>624</th>\n",
       "      <td>What percent of people do icky hard drugs like...</td>\n",
       "      <td>depression</td>\n",
       "      <td>Hard drugs like cocaine, heroin, meth, etc? I ...</td>\n",
       "    </tr>\n",
       "    <tr>\n",
       "      <th>625</th>\n",
       "      <td>Bad headspace</td>\n",
       "      <td>depression</td>\n",
       "      <td>Really bad headspace.\\nSo, my Parain (Godfathe...</td>\n",
       "    </tr>\n",
       "    <tr>\n",
       "      <th>626</th>\n",
       "      <td>Help</td>\n",
       "      <td>depression</td>\n",
       "      <td>I’m sorry I don’t know where to post this, but...</td>\n",
       "    </tr>\n",
       "  </tbody>\n",
       "</table>\n",
       "<p>627 rows × 3 columns</p>\n",
       "</div>"
      ],
      "text/plain": [
       "                                                 title   subreddit  \\\n",
       "0    Our most-broken and least-understood rules is ...  depression   \n",
       "1    Regular Check-In Post. Plus, a reminder about ...  depression   \n",
       "2     Not suicidal but just no desire to live each day  depression   \n",
       "3           Do what works for you even if it's \"weird\"  depression   \n",
       "4                           Zero Motivation for School  depression   \n",
       "..                                                 ...         ...   \n",
       "622                       Uncertainty about the future  depression   \n",
       "623                             My attempt TW: suicide  depression   \n",
       "624  What percent of people do icky hard drugs like...  depression   \n",
       "625                                      Bad headspace  depression   \n",
       "626                                               Help  depression   \n",
       "\n",
       "                                              selftext  \n",
       "0    We understand that most people who reply immed...  \n",
       "1    Welcome to /r/depression's check-in post - a p...  \n",
       "2    I don’t wanna end it all, but I’m just tired o...  \n",
       "3    I spent so long trying to fight myself to do t...  \n",
       "4    I’ve (21F) never been so unmotivated to do wor...  \n",
       "..                                                 ...  \n",
       "622  I'm so scared about my future, I can't see mys...  \n",
       "623  I’ve never told anyone my story it’s been a co...  \n",
       "624  Hard drugs like cocaine, heroin, meth, etc? I ...  \n",
       "625  Really bad headspace.\\nSo, my Parain (Godfathe...  \n",
       "626  I’m sorry I don’t know where to post this, but...  \n",
       "\n",
       "[627 rows x 3 columns]"
      ]
     },
     "execution_count": 5,
     "metadata": {},
     "output_type": "execute_result"
    }
   ],
   "source": [
    "# extract title, subreddit and selftext from dataframe and assign to depression_select\n",
    "depression_select = depression[['title','subreddit','selftext']]\n",
    "depression_select"
   ]
  },
  {
   "cell_type": "markdown",
   "metadata": {},
   "source": [
    "# Exploratory Data Analysis and Data Cleaning"
   ]
  },
  {
   "cell_type": "markdown",
   "metadata": {},
   "source": [
    "### The data is checked for nulls and duplicates"
   ]
  },
  {
   "cell_type": "markdown",
   "metadata": {},
   "source": [
    "1. For Depression sub-reddit, there are 11 null values in the 'selftext'. There are no duplicates.\n",
    "2. For Anxiety sub-reddit, there are 21 null values in the 'selftext'. There are 20 duplicates in the dataframe.\n",
    "3. Null values in 'selftext' will be dropped and duplicates will be removed."
   ]
  },
  {
   "cell_type": "code",
   "execution_count": 6,
   "metadata": {},
   "outputs": [
    {
     "data": {
      "text/plain": [
       "title         0\n",
       "subreddit     0\n",
       "selftext     11\n",
       "dtype: int64"
      ]
     },
     "execution_count": 6,
     "metadata": {},
     "output_type": "execute_result"
    }
   ],
   "source": [
    "depression_select.isnull().sum()"
   ]
  },
  {
   "cell_type": "code",
   "execution_count": 7,
   "metadata": {},
   "outputs": [
    {
     "data": {
      "text/plain": [
       "0"
      ]
     },
     "execution_count": 7,
     "metadata": {},
     "output_type": "execute_result"
    }
   ],
   "source": [
    "depression_select.duplicated().sum()"
   ]
  },
  {
   "cell_type": "code",
   "execution_count": 8,
   "metadata": {},
   "outputs": [
    {
     "data": {
      "text/plain": [
       "title         0\n",
       "subreddit     0\n",
       "selftext     21\n",
       "dtype: int64"
      ]
     },
     "execution_count": 8,
     "metadata": {},
     "output_type": "execute_result"
    }
   ],
   "source": [
    "anxiety_select.isnull().sum()"
   ]
  },
  {
   "cell_type": "code",
   "execution_count": 9,
   "metadata": {},
   "outputs": [
    {
     "data": {
      "text/plain": [
       "20"
      ]
     },
     "execution_count": 9,
     "metadata": {},
     "output_type": "execute_result"
    }
   ],
   "source": [
    "anxiety_select.duplicated().sum()"
   ]
  },
  {
   "cell_type": "markdown",
   "metadata": {},
   "source": [
    "* Remove nulls and duplicates."
   ]
  },
  {
   "cell_type": "code",
   "execution_count": 10,
   "metadata": {},
   "outputs": [],
   "source": [
    "dep_merge = depression_select.dropna()"
   ]
  },
  {
   "cell_type": "code",
   "execution_count": 11,
   "metadata": {},
   "outputs": [],
   "source": [
    "an_merge = anxiety_select.dropna().drop_duplicates()"
   ]
  },
  {
   "cell_type": "markdown",
   "metadata": {},
   "source": [
    "* Check dep_merge and an_merge to ensure nulls and duplicates are removed successfully"
   ]
  },
  {
   "cell_type": "code",
   "execution_count": 12,
   "metadata": {},
   "outputs": [
    {
     "data": {
      "text/plain": [
       "title        0\n",
       "subreddit    0\n",
       "selftext     0\n",
       "dtype: int64"
      ]
     },
     "execution_count": 12,
     "metadata": {},
     "output_type": "execute_result"
    }
   ],
   "source": [
    "dep_merge.isnull().sum()"
   ]
  },
  {
   "cell_type": "code",
   "execution_count": 13,
   "metadata": {},
   "outputs": [
    {
     "data": {
      "text/plain": [
       "title        0\n",
       "subreddit    0\n",
       "selftext     0\n",
       "dtype: int64"
      ]
     },
     "execution_count": 13,
     "metadata": {},
     "output_type": "execute_result"
    }
   ],
   "source": [
    "an_merge.isnull().sum()"
   ]
  },
  {
   "cell_type": "code",
   "execution_count": 14,
   "metadata": {},
   "outputs": [
    {
     "data": {
      "text/plain": [
       "0"
      ]
     },
     "execution_count": 14,
     "metadata": {},
     "output_type": "execute_result"
    }
   ],
   "source": [
    "an_merge.duplicated().sum()"
   ]
  },
  {
   "cell_type": "markdown",
   "metadata": {},
   "source": [
    "### Number of posts in Depression and Anxiety sub-reddits"
   ]
  },
  {
   "cell_type": "markdown",
   "metadata": {},
   "source": [
    "- There are 616 Depression posts."
   ]
  },
  {
   "cell_type": "code",
   "execution_count": 15,
   "metadata": {},
   "outputs": [
    {
     "data": {
      "text/plain": [
       "(616, 3)"
      ]
     },
     "execution_count": 15,
     "metadata": {},
     "output_type": "execute_result"
    }
   ],
   "source": [
    "dep_merge.shape"
   ]
  },
  {
   "cell_type": "markdown",
   "metadata": {},
   "source": [
    "* There are 588 Anxiety posts."
   ]
  },
  {
   "cell_type": "code",
   "execution_count": 16,
   "metadata": {},
   "outputs": [
    {
     "data": {
      "text/plain": [
       "(588, 3)"
      ]
     },
     "execution_count": 16,
     "metadata": {},
     "output_type": "execute_result"
    }
   ],
   "source": [
    "an_merge.shape"
   ]
  },
  {
   "cell_type": "markdown",
   "metadata": {},
   "source": [
    "### Merge sub-Reddit Anxiety & Depression to compile data"
   ]
  },
  {
   "cell_type": "code",
   "execution_count": 17,
   "metadata": {},
   "outputs": [
    {
     "data": {
      "text/html": [
       "<div>\n",
       "<style scoped>\n",
       "    .dataframe tbody tr th:only-of-type {\n",
       "        vertical-align: middle;\n",
       "    }\n",
       "\n",
       "    .dataframe tbody tr th {\n",
       "        vertical-align: top;\n",
       "    }\n",
       "\n",
       "    .dataframe thead th {\n",
       "        text-align: right;\n",
       "    }\n",
       "</style>\n",
       "<table border=\"1\" class=\"dataframe\">\n",
       "  <thead>\n",
       "    <tr style=\"text-align: right;\">\n",
       "      <th></th>\n",
       "      <th>title</th>\n",
       "      <th>subreddit</th>\n",
       "      <th>selftext</th>\n",
       "    </tr>\n",
       "  </thead>\n",
       "  <tbody>\n",
       "    <tr>\n",
       "      <th>0</th>\n",
       "      <td>Our most-broken and least-understood rules is ...</td>\n",
       "      <td>depression</td>\n",
       "      <td>We understand that most people who reply immed...</td>\n",
       "    </tr>\n",
       "    <tr>\n",
       "      <th>1</th>\n",
       "      <td>Regular Check-In Post. Plus, a reminder about ...</td>\n",
       "      <td>depression</td>\n",
       "      <td>Welcome to /r/depression's check-in post - a p...</td>\n",
       "    </tr>\n",
       "    <tr>\n",
       "      <th>2</th>\n",
       "      <td>Not suicidal but just no desire to live each day</td>\n",
       "      <td>depression</td>\n",
       "      <td>I don’t wanna end it all, but I’m just tired o...</td>\n",
       "    </tr>\n",
       "    <tr>\n",
       "      <th>3</th>\n",
       "      <td>Do what works for you even if it's \"weird\"</td>\n",
       "      <td>depression</td>\n",
       "      <td>I spent so long trying to fight myself to do t...</td>\n",
       "    </tr>\n",
       "    <tr>\n",
       "      <th>4</th>\n",
       "      <td>Zero Motivation for School</td>\n",
       "      <td>depression</td>\n",
       "      <td>I’ve (21F) never been so unmotivated to do wor...</td>\n",
       "    </tr>\n",
       "    <tr>\n",
       "      <th>...</th>\n",
       "      <td>...</td>\n",
       "      <td>...</td>\n",
       "      <td>...</td>\n",
       "    </tr>\n",
       "    <tr>\n",
       "      <th>622</th>\n",
       "      <td>How do you cope?</td>\n",
       "      <td>Anxiety</td>\n",
       "      <td>I’ve had GAD since I was 12, but quarantine is...</td>\n",
       "    </tr>\n",
       "    <tr>\n",
       "      <th>623</th>\n",
       "      <td>PVCs</td>\n",
       "      <td>Anxiety</td>\n",
       "      <td>Does anyone else here get a ton of PVCs during...</td>\n",
       "    </tr>\n",
       "    <tr>\n",
       "      <th>624</th>\n",
       "      <td>Who else gets hit with an anxiety attack for n...</td>\n",
       "      <td>Anxiety</td>\n",
       "      <td>I feel like typically people have something th...</td>\n",
       "    </tr>\n",
       "    <tr>\n",
       "      <th>625</th>\n",
       "      <td>How to not take everything seriously</td>\n",
       "      <td>Anxiety</td>\n",
       "      <td>I take every single thing seriously. If a rand...</td>\n",
       "    </tr>\n",
       "    <tr>\n",
       "      <th>626</th>\n",
       "      <td>Coming to Accept That My Parents Played a Mass...</td>\n",
       "      <td>Anxiety</td>\n",
       "      <td>This is to vent more than anything. I need to ...</td>\n",
       "    </tr>\n",
       "  </tbody>\n",
       "</table>\n",
       "<p>1204 rows × 3 columns</p>\n",
       "</div>"
      ],
      "text/plain": [
       "                                                 title   subreddit  \\\n",
       "0    Our most-broken and least-understood rules is ...  depression   \n",
       "1    Regular Check-In Post. Plus, a reminder about ...  depression   \n",
       "2     Not suicidal but just no desire to live each day  depression   \n",
       "3           Do what works for you even if it's \"weird\"  depression   \n",
       "4                           Zero Motivation for School  depression   \n",
       "..                                                 ...         ...   \n",
       "622                                   How do you cope?     Anxiety   \n",
       "623                                               PVCs     Anxiety   \n",
       "624  Who else gets hit with an anxiety attack for n...     Anxiety   \n",
       "625               How to not take everything seriously     Anxiety   \n",
       "626  Coming to Accept That My Parents Played a Mass...     Anxiety   \n",
       "\n",
       "                                              selftext  \n",
       "0    We understand that most people who reply immed...  \n",
       "1    Welcome to /r/depression's check-in post - a p...  \n",
       "2    I don’t wanna end it all, but I’m just tired o...  \n",
       "3    I spent so long trying to fight myself to do t...  \n",
       "4    I’ve (21F) never been so unmotivated to do wor...  \n",
       "..                                                 ...  \n",
       "622  I’ve had GAD since I was 12, but quarantine is...  \n",
       "623  Does anyone else here get a ton of PVCs during...  \n",
       "624  I feel like typically people have something th...  \n",
       "625  I take every single thing seriously. If a rand...  \n",
       "626  This is to vent more than anything. I need to ...  \n",
       "\n",
       "[1204 rows x 3 columns]"
      ]
     },
     "execution_count": 17,
     "metadata": {},
     "output_type": "execute_result"
    }
   ],
   "source": [
    "merge = pd.concat((dep_merge,an_merge), axis = 0)\n",
    "merge"
   ]
  },
  {
   "cell_type": "markdown",
   "metadata": {},
   "source": [
    "### Create a new .csv file from the merged data for easier manipulation"
   ]
  },
  {
   "cell_type": "code",
   "execution_count": 18,
   "metadata": {},
   "outputs": [],
   "source": [
    "# save out merged dataframe  to .csv\n",
    "merge.to_csv('dep_an_full.csv')"
   ]
  },
  {
   "cell_type": "code",
   "execution_count": 19,
   "metadata": {},
   "outputs": [],
   "source": [
    "full = pd.read_csv('dep_an_full.csv')\n",
    "\n",
    "# drop 'Unnamed: 0' column\n",
    "full.drop(columns = 'Unnamed: 0', inplace = True)"
   ]
  },
  {
   "cell_type": "markdown",
   "metadata": {},
   "source": [
    "### Merge `Title` and `subreddit` to create new feature `combo_text`"
   ]
  },
  {
   "cell_type": "code",
   "execution_count": 20,
   "metadata": {},
   "outputs": [
    {
     "data": {
      "text/html": [
       "<div>\n",
       "<style scoped>\n",
       "    .dataframe tbody tr th:only-of-type {\n",
       "        vertical-align: middle;\n",
       "    }\n",
       "\n",
       "    .dataframe tbody tr th {\n",
       "        vertical-align: top;\n",
       "    }\n",
       "\n",
       "    .dataframe thead th {\n",
       "        text-align: right;\n",
       "    }\n",
       "</style>\n",
       "<table border=\"1\" class=\"dataframe\">\n",
       "  <thead>\n",
       "    <tr style=\"text-align: right;\">\n",
       "      <th></th>\n",
       "      <th>title</th>\n",
       "      <th>subreddit</th>\n",
       "      <th>selftext</th>\n",
       "      <th>combo_text</th>\n",
       "    </tr>\n",
       "  </thead>\n",
       "  <tbody>\n",
       "    <tr>\n",
       "      <th>0</th>\n",
       "      <td>Our most-broken and least-understood rules is ...</td>\n",
       "      <td>depression</td>\n",
       "      <td>We understand that most people who reply immed...</td>\n",
       "      <td>Our most-broken and least-understood rules is ...</td>\n",
       "    </tr>\n",
       "    <tr>\n",
       "      <th>1</th>\n",
       "      <td>Regular Check-In Post. Plus, a reminder about ...</td>\n",
       "      <td>depression</td>\n",
       "      <td>Welcome to /r/depression's check-in post - a p...</td>\n",
       "      <td>Regular Check-In Post. Plus, a reminder about ...</td>\n",
       "    </tr>\n",
       "    <tr>\n",
       "      <th>2</th>\n",
       "      <td>Not suicidal but just no desire to live each day</td>\n",
       "      <td>depression</td>\n",
       "      <td>I don’t wanna end it all, but I’m just tired o...</td>\n",
       "      <td>Not suicidal but just no desire to live each d...</td>\n",
       "    </tr>\n",
       "    <tr>\n",
       "      <th>3</th>\n",
       "      <td>Do what works for you even if it's \"weird\"</td>\n",
       "      <td>depression</td>\n",
       "      <td>I spent so long trying to fight myself to do t...</td>\n",
       "      <td>Do what works for you even if it's \"weird\" I s...</td>\n",
       "    </tr>\n",
       "    <tr>\n",
       "      <th>4</th>\n",
       "      <td>Zero Motivation for School</td>\n",
       "      <td>depression</td>\n",
       "      <td>I’ve (21F) never been so unmotivated to do wor...</td>\n",
       "      <td>Zero Motivation for School I’ve (21F) never be...</td>\n",
       "    </tr>\n",
       "  </tbody>\n",
       "</table>\n",
       "</div>"
      ],
      "text/plain": [
       "                                               title   subreddit  \\\n",
       "0  Our most-broken and least-understood rules is ...  depression   \n",
       "1  Regular Check-In Post. Plus, a reminder about ...  depression   \n",
       "2   Not suicidal but just no desire to live each day  depression   \n",
       "3         Do what works for you even if it's \"weird\"  depression   \n",
       "4                         Zero Motivation for School  depression   \n",
       "\n",
       "                                            selftext  \\\n",
       "0  We understand that most people who reply immed...   \n",
       "1  Welcome to /r/depression's check-in post - a p...   \n",
       "2  I don’t wanna end it all, but I’m just tired o...   \n",
       "3  I spent so long trying to fight myself to do t...   \n",
       "4  I’ve (21F) never been so unmotivated to do wor...   \n",
       "\n",
       "                                          combo_text  \n",
       "0  Our most-broken and least-understood rules is ...  \n",
       "1  Regular Check-In Post. Plus, a reminder about ...  \n",
       "2  Not suicidal but just no desire to live each d...  \n",
       "3  Do what works for you even if it's \"weird\" I s...  \n",
       "4  Zero Motivation for School I’ve (21F) never be...  "
      ]
     },
     "execution_count": 20,
     "metadata": {},
     "output_type": "execute_result"
    }
   ],
   "source": [
    "# merge title and selftext to create combo_text\n",
    "full['combo_text'] = full['title'] + \" \" + full['selftext']\n",
    "full.head()"
   ]
  },
  {
   "cell_type": "markdown",
   "metadata": {},
   "source": [
    "### Engineer a feature <span style=\"background-color: #FFFF00\"> dep_or_an </span> to turn subreddit into a 1/0 column, where <span style=\"background-color: #FFFF00\">1 indicates Depression</span>,   <span style=\"background-color: #FFFF00\">0 indicates Anxiety</span>"
   ]
  },
  {
   "cell_type": "code",
   "execution_count": 21,
   "metadata": {},
   "outputs": [],
   "source": [
    "# change subreddit column to lowercase\n",
    "full['subreddit'] = full['subreddit'].map(lambda x: x.lower())\n",
    "\n",
    "full['dep_or_an'] = full['subreddit'].map({'anxiety':0, 'depression':1})"
   ]
  },
  {
   "cell_type": "code",
   "execution_count": 22,
   "metadata": {},
   "outputs": [
    {
     "data": {
      "text/html": [
       "<div>\n",
       "<style scoped>\n",
       "    .dataframe tbody tr th:only-of-type {\n",
       "        vertical-align: middle;\n",
       "    }\n",
       "\n",
       "    .dataframe tbody tr th {\n",
       "        vertical-align: top;\n",
       "    }\n",
       "\n",
       "    .dataframe thead th {\n",
       "        text-align: right;\n",
       "    }\n",
       "</style>\n",
       "<table border=\"1\" class=\"dataframe\">\n",
       "  <thead>\n",
       "    <tr style=\"text-align: right;\">\n",
       "      <th></th>\n",
       "      <th>title</th>\n",
       "      <th>subreddit</th>\n",
       "      <th>selftext</th>\n",
       "      <th>combo_text</th>\n",
       "      <th>dep_or_an</th>\n",
       "    </tr>\n",
       "  </thead>\n",
       "  <tbody>\n",
       "    <tr>\n",
       "      <th>0</th>\n",
       "      <td>Our most-broken and least-understood rules is ...</td>\n",
       "      <td>depression</td>\n",
       "      <td>We understand that most people who reply immed...</td>\n",
       "      <td>Our most-broken and least-understood rules is ...</td>\n",
       "      <td>1</td>\n",
       "    </tr>\n",
       "    <tr>\n",
       "      <th>1</th>\n",
       "      <td>Regular Check-In Post. Plus, a reminder about ...</td>\n",
       "      <td>depression</td>\n",
       "      <td>Welcome to /r/depression's check-in post - a p...</td>\n",
       "      <td>Regular Check-In Post. Plus, a reminder about ...</td>\n",
       "      <td>1</td>\n",
       "    </tr>\n",
       "    <tr>\n",
       "      <th>2</th>\n",
       "      <td>Not suicidal but just no desire to live each day</td>\n",
       "      <td>depression</td>\n",
       "      <td>I don’t wanna end it all, but I’m just tired o...</td>\n",
       "      <td>Not suicidal but just no desire to live each d...</td>\n",
       "      <td>1</td>\n",
       "    </tr>\n",
       "    <tr>\n",
       "      <th>3</th>\n",
       "      <td>Do what works for you even if it's \"weird\"</td>\n",
       "      <td>depression</td>\n",
       "      <td>I spent so long trying to fight myself to do t...</td>\n",
       "      <td>Do what works for you even if it's \"weird\" I s...</td>\n",
       "      <td>1</td>\n",
       "    </tr>\n",
       "    <tr>\n",
       "      <th>4</th>\n",
       "      <td>Zero Motivation for School</td>\n",
       "      <td>depression</td>\n",
       "      <td>I’ve (21F) never been so unmotivated to do wor...</td>\n",
       "      <td>Zero Motivation for School I’ve (21F) never be...</td>\n",
       "      <td>1</td>\n",
       "    </tr>\n",
       "    <tr>\n",
       "      <th>...</th>\n",
       "      <td>...</td>\n",
       "      <td>...</td>\n",
       "      <td>...</td>\n",
       "      <td>...</td>\n",
       "      <td>...</td>\n",
       "    </tr>\n",
       "    <tr>\n",
       "      <th>1199</th>\n",
       "      <td>How do you cope?</td>\n",
       "      <td>anxiety</td>\n",
       "      <td>I’ve had GAD since I was 12, but quarantine is...</td>\n",
       "      <td>How do you cope? I’ve had GAD since I was 12, ...</td>\n",
       "      <td>0</td>\n",
       "    </tr>\n",
       "    <tr>\n",
       "      <th>1200</th>\n",
       "      <td>PVCs</td>\n",
       "      <td>anxiety</td>\n",
       "      <td>Does anyone else here get a ton of PVCs during...</td>\n",
       "      <td>PVCs Does anyone else here get a ton of PVCs d...</td>\n",
       "      <td>0</td>\n",
       "    </tr>\n",
       "    <tr>\n",
       "      <th>1201</th>\n",
       "      <td>Who else gets hit with an anxiety attack for n...</td>\n",
       "      <td>anxiety</td>\n",
       "      <td>I feel like typically people have something th...</td>\n",
       "      <td>Who else gets hit with an anxiety attack for n...</td>\n",
       "      <td>0</td>\n",
       "    </tr>\n",
       "    <tr>\n",
       "      <th>1202</th>\n",
       "      <td>How to not take everything seriously</td>\n",
       "      <td>anxiety</td>\n",
       "      <td>I take every single thing seriously. If a rand...</td>\n",
       "      <td>How to not take everything seriously I take ev...</td>\n",
       "      <td>0</td>\n",
       "    </tr>\n",
       "    <tr>\n",
       "      <th>1203</th>\n",
       "      <td>Coming to Accept That My Parents Played a Mass...</td>\n",
       "      <td>anxiety</td>\n",
       "      <td>This is to vent more than anything. I need to ...</td>\n",
       "      <td>Coming to Accept That My Parents Played a Mass...</td>\n",
       "      <td>0</td>\n",
       "    </tr>\n",
       "  </tbody>\n",
       "</table>\n",
       "<p>1204 rows × 5 columns</p>\n",
       "</div>"
      ],
      "text/plain": [
       "                                                  title   subreddit  \\\n",
       "0     Our most-broken and least-understood rules is ...  depression   \n",
       "1     Regular Check-In Post. Plus, a reminder about ...  depression   \n",
       "2      Not suicidal but just no desire to live each day  depression   \n",
       "3            Do what works for you even if it's \"weird\"  depression   \n",
       "4                            Zero Motivation for School  depression   \n",
       "...                                                 ...         ...   \n",
       "1199                                   How do you cope?     anxiety   \n",
       "1200                                               PVCs     anxiety   \n",
       "1201  Who else gets hit with an anxiety attack for n...     anxiety   \n",
       "1202               How to not take everything seriously     anxiety   \n",
       "1203  Coming to Accept That My Parents Played a Mass...     anxiety   \n",
       "\n",
       "                                               selftext  \\\n",
       "0     We understand that most people who reply immed...   \n",
       "1     Welcome to /r/depression's check-in post - a p...   \n",
       "2     I don’t wanna end it all, but I’m just tired o...   \n",
       "3     I spent so long trying to fight myself to do t...   \n",
       "4     I’ve (21F) never been so unmotivated to do wor...   \n",
       "...                                                 ...   \n",
       "1199  I’ve had GAD since I was 12, but quarantine is...   \n",
       "1200  Does anyone else here get a ton of PVCs during...   \n",
       "1201  I feel like typically people have something th...   \n",
       "1202  I take every single thing seriously. If a rand...   \n",
       "1203  This is to vent more than anything. I need to ...   \n",
       "\n",
       "                                             combo_text  dep_or_an  \n",
       "0     Our most-broken and least-understood rules is ...          1  \n",
       "1     Regular Check-In Post. Plus, a reminder about ...          1  \n",
       "2     Not suicidal but just no desire to live each d...          1  \n",
       "3     Do what works for you even if it's \"weird\" I s...          1  \n",
       "4     Zero Motivation for School I’ve (21F) never be...          1  \n",
       "...                                                 ...        ...  \n",
       "1199  How do you cope? I’ve had GAD since I was 12, ...          0  \n",
       "1200  PVCs Does anyone else here get a ton of PVCs d...          0  \n",
       "1201  Who else gets hit with an anxiety attack for n...          0  \n",
       "1202  How to not take everything seriously I take ev...          0  \n",
       "1203  Coming to Accept That My Parents Played a Mass...          0  \n",
       "\n",
       "[1204 rows x 5 columns]"
      ]
     },
     "execution_count": 22,
     "metadata": {},
     "output_type": "execute_result"
    }
   ],
   "source": [
    "# quick view on the data\n",
    "full"
   ]
  },
  {
   "cell_type": "markdown",
   "metadata": {},
   "source": [
    "* There are a total of 1204 combined posts from Anxiety and Depression sub-reddits."
   ]
  },
  {
   "cell_type": "code",
   "execution_count": 23,
   "metadata": {},
   "outputs": [
    {
     "data": {
      "text/plain": [
       "1    0.511628\n",
       "0    0.488372\n",
       "Name: dep_or_an, dtype: float64"
      ]
     },
     "execution_count": 23,
     "metadata": {},
     "output_type": "execute_result"
    }
   ],
   "source": [
    "# check proportion of anxiety and depression posts in data\n",
    "full['dep_or_an'].value_counts(normalize = True)"
   ]
  },
  {
   "cell_type": "markdown",
   "metadata": {},
   "source": [
    "# Pre-Processing for text data"
   ]
  },
  {
   "cell_type": "markdown",
   "metadata": {},
   "source": [
    "### Create function to clean text"
   ]
  },
  {
   "cell_type": "markdown",
   "metadata": {},
   "source": [
    "* Function will remove the punctuations, new lines etc from the string and convert to lowercase. After that it will lemmentize the text."
   ]
  },
  {
   "cell_type": "code",
   "execution_count": 24,
   "metadata": {},
   "outputs": [],
   "source": [
    "\n",
    "def clean_tokenize_lemma(text):\n",
    "    \n",
    "    # Remove non-letters.\n",
    "    letters_only = re.sub(\"[^a-zA-Z]\", \" \", text)\n",
    "    \n",
    "    # Convert letters_only to lower case.\n",
    "    lower_case = letters_only.lower()\n",
    "\n",
    "    # Split lower_case up at each space.\n",
    "    words = lower_case.split()\n",
    "    \n",
    "    # assign stopwords list to stops\n",
    "    stops = (stopwords.words('english'))\n",
    "\n",
    "    # Remove stopwords in text using stopwords list from nltk\n",
    "    # and put into a list\n",
    "    meaningful_words = [w for w in words if w not in stops]\n",
    "    \n",
    "    # tag words to be adjective, noun, verb, adverb\n",
    "    tag_dict = {\"J\": wordnet.ADJ,\n",
    "                \"N\": wordnet.NOUN,\n",
    "                \"V\": wordnet.VERB,\n",
    "                \"R\": wordnet.ADV}\n",
    "    \n",
    "    lemma_meaningful_words = {}\n",
    "    \n",
    "    for word in meaningful_words:\n",
    "        tag = nltk.pos_tag(word)[0][1][0].upper()\n",
    "        lemma_tag = tag_dict.get(tag, wordnet.NOUN)\n",
    "        lemma_meaningful_words[word] = lemma_tag\n",
    "    \n",
    "    # initialize lemmatizer\n",
    "    lemmatizer = WordNetLemmatizer()\n",
    "    \n",
    "    # use lemmatizer to shorten words to combine similar forms of the same word\n",
    "    # this returns the word to their lemma, or the base/dictionary form of the word.\n",
    "    # after that put the words into a list and reassign to meaningful_words again\n",
    "    meaningful_words = [lemmatizer.lemmatize(word, lemma_meaningful_words[word]) for word in lemma_meaningful_words]\n",
    "    \n",
    "    # Join the words back into one string separated by space,\n",
    "    # and return the result.\n",
    "    return(\" \".join(meaningful_words))"
   ]
  },
  {
   "cell_type": "markdown",
   "metadata": {},
   "source": [
    "### Use clean_text_lemment function to clean `combo_text` and put into new `clean_text` column"
   ]
  },
  {
   "cell_type": "code",
   "execution_count": 25,
   "metadata": {},
   "outputs": [],
   "source": [
    "full['clean_text'] = full['combo_text'].map(clean_tokenize_lemma)"
   ]
  },
  {
   "cell_type": "markdown",
   "metadata": {},
   "source": [
    "* Text before cleaning"
   ]
  },
  {
   "cell_type": "code",
   "execution_count": 26,
   "metadata": {},
   "outputs": [
    {
     "data": {
      "text/plain": [
       "'That feeling inside your chest It’s a heavy feeling. It’s kind of like an ache, or like heartburn, and it’s so physical that you start to wonder if you actually did eat something bad. You can’t help but notice it, and even though it hurts, it’s hard not to lean into it. When you indulge the feeling, all the Bad Thoughts come rushing forth. Maybe you’re sad, or angry, or feeling guilty. Self pity is usually in there somewhere. Sometimes it makes tears prick at the corner of your eyes. You try to distract yourself from the feeling by taking up space in your head with anything else. It’s always sort of there in the background. But sometimes it actually subsides, and it feels like such a relief, like you’re free and you can breathe again.'"
      ]
     },
     "execution_count": 26,
     "metadata": {},
     "output_type": "execute_result"
    }
   ],
   "source": [
    "full.loc[5,'combo_text']"
   ]
  },
  {
   "cell_type": "markdown",
   "metadata": {},
   "source": [
    "* Text after cleaning"
   ]
  },
  {
   "cell_type": "code",
   "execution_count": 27,
   "metadata": {},
   "outputs": [
    {
     "data": {
      "text/plain": [
       "'feeling inside chest heavy kind like ache heartburn physical start wonder actually eat something bad help notice even though hurt hard lean indulge thought come rushing forth maybe sad angry guilty self pity usually somewhere sometimes make tear prick corner eye try distract take space head anything else always sort background subsides feels relief free breathe'"
      ]
     },
     "execution_count": 27,
     "metadata": {},
     "output_type": "execute_result"
    }
   ],
   "source": [
    "full.loc[5,'clean_text']"
   ]
  },
  {
   "cell_type": "code",
   "execution_count": 28,
   "metadata": {},
   "outputs": [
    {
     "name": "stdout",
     "output_type": "stream",
     "text": [
      "Length of text before cleaning is 744\n",
      "Length of text after cleaning is 363\n"
     ]
    }
   ],
   "source": [
    "print('Length of text before cleaning is', len(full.loc[5,'combo_text']))\n",
    "print('Length of text after cleaning is', len(full.loc[5,'clean_text']))"
   ]
  },
  {
   "cell_type": "markdown",
   "metadata": {},
   "source": [
    "* When the text before cleaning is compared with the text after cleaning, the number of words is reduced. The clean_tokenize_lemma function is not able to clean some words fully, like `feeling` is not lemmentized into `feel`. It will lemmentized based on the tags it was given. Here, `taking` is successfully lemmentized into `take`.\n",
    "\n",
    "\n",
    "* By reducing the number of words, it will help the machine to train on key words that are deemded to have more meaning over other words. "
   ]
  },
  {
   "cell_type": "markdown",
   "metadata": {},
   "source": [
    "# Modeling using Processed Text"
   ]
  },
  {
   "cell_type": "markdown",
   "metadata": {},
   "source": [
    "* Several models will be built and evaluated to determine which model is the most suitable to tackle the issues mentioned in the problem statement.\n",
    "\n",
    "\n",
    "* The main scoring metric which is accuracy will be used to evaluate the performance of the model. Accuracy is chosen as the main metric as it determines if the text came from Depression or Anxiety sub-reddit. Posts from Depression sub-reddit is used to infer that the individual is displaying symptoms or signs of depression, likewise for Anxiety. With reference to the problem statement, it will help target stakeholders, who are the mental health practioners which include counsellors and psychiatrists to have a quick overview if the individual is leaning towards depression or anxiety behaviour.\n",
    "\n",
    "\n",
    "* The model is deemed performing well, if it has at least test score of 80% accuracy. The best model will be selected and further evaluated with the confusion matrix."
   ]
  },
  {
   "cell_type": "markdown",
   "metadata": {},
   "source": [
    "## Use train_test_split to split data into training and test data. Test data will be use for validation."
   ]
  },
  {
   "cell_type": "code",
   "execution_count": 29,
   "metadata": {},
   "outputs": [],
   "source": [
    "X = full['clean_text']\n",
    "y = full['dep_or_an']"
   ]
  },
  {
   "cell_type": "code",
   "execution_count": 30,
   "metadata": {},
   "outputs": [],
   "source": [
    "# when the data is split with stratify parameter invoked,\n",
    "# it will split the data in the same proportion as the original dataset.\n",
    "# This applies to the train and test datasets as well.\n",
    "\n",
    "X_train, X_test, y_train, y_test = train_test_split(X,\n",
    "                                                    y,\n",
    "                                                    test_size=0.25,\n",
    "                                                    random_state=42,\n",
    "                                                    stratify=y)"
   ]
  },
  {
   "cell_type": "markdown",
   "metadata": {},
   "source": [
    "* Check the shape to ensure data has been split appropriately. Data is split into 75% train, 25% test."
   ]
  },
  {
   "cell_type": "code",
   "execution_count": 31,
   "metadata": {},
   "outputs": [
    {
     "data": {
      "text/plain": [
       "(903,)"
      ]
     },
     "execution_count": 31,
     "metadata": {},
     "output_type": "execute_result"
    }
   ],
   "source": [
    "X_train.shape"
   ]
  },
  {
   "cell_type": "code",
   "execution_count": 32,
   "metadata": {},
   "outputs": [
    {
     "data": {
      "text/plain": [
       "(301,)"
      ]
     },
     "execution_count": 32,
     "metadata": {},
     "output_type": "execute_result"
    }
   ],
   "source": [
    "X_test.shape"
   ]
  },
  {
   "cell_type": "code",
   "execution_count": 33,
   "metadata": {},
   "outputs": [
    {
     "name": "stdout",
     "output_type": "stream",
     "text": [
      "X_train percentage against total is 0.75.\n",
      "X_test percentage against total is 0.25.\n"
     ]
    }
   ],
   "source": [
    "print(f'X_train percentage against total is {903/1204}.')\n",
    "print(f'X_test percentage against total is {301/1204}.')"
   ]
  },
  {
   "cell_type": "markdown",
   "metadata": {},
   "source": [
    "## Multinomial NaiveBayes model with CountVectorizer (nb_cvec)"
   ]
  },
  {
   "cell_type": "markdown",
   "metadata": {},
   "source": [
    "* For this model, the Multinomial NaiveBayes `(nb)` will be used to predict if the text came from a Depression or Anxiety sub-reddit. Accuracy is used as the main evaluation metric. The vectorizer used is the CountVectorizer `(cvec)`.\n",
    "\n",
    "\n",
    "* Multinomial NaiveBayes model is used because the target variable is to predict 2 outcomes; to predict if the post came from Depression or Anxiety sub-reddit. The features are the words and the probability of each word occuring in the text is evaluated to look at their importance in prediction. `nb` is used as the features' outcome is not binary but multinomially distributed."
   ]
  },
  {
   "cell_type": "markdown",
   "metadata": {},
   "source": [
    "### Create Pipeline for nb & cvec"
   ]
  },
  {
   "cell_type": "markdown",
   "metadata": {},
   "source": [
    "* Use pipeline and GridSearchCV to obtain the best parameters for Naivebayes alpha parameter and cvec"
   ]
  },
  {
   "cell_type": "code",
   "execution_count": 34,
   "metadata": {},
   "outputs": [],
   "source": [
    "# Set a pipeline up with two stages:\n",
    "# 1. CountVectorizer (transformer)\n",
    "# 2. Naivebayes Multinomial (estimator)\n",
    "pipe_nb_cvec = Pipeline([\n",
    "    ('cvec', CountVectorizer()),\n",
    "    ('nb', MultinomialNB())\n",
    "])"
   ]
  },
  {
   "cell_type": "code",
   "execution_count": 35,
   "metadata": {},
   "outputs": [
    {
     "data": {
      "text/plain": [
       "{'memory': None,\n",
       " 'steps': [('cvec', CountVectorizer()), ('nb', MultinomialNB())],\n",
       " 'verbose': False,\n",
       " 'cvec': CountVectorizer(),\n",
       " 'nb': MultinomialNB(),\n",
       " 'cvec__analyzer': 'word',\n",
       " 'cvec__binary': False,\n",
       " 'cvec__decode_error': 'strict',\n",
       " 'cvec__dtype': numpy.int64,\n",
       " 'cvec__encoding': 'utf-8',\n",
       " 'cvec__input': 'content',\n",
       " 'cvec__lowercase': True,\n",
       " 'cvec__max_df': 1.0,\n",
       " 'cvec__max_features': None,\n",
       " 'cvec__min_df': 1,\n",
       " 'cvec__ngram_range': (1, 1),\n",
       " 'cvec__preprocessor': None,\n",
       " 'cvec__stop_words': None,\n",
       " 'cvec__strip_accents': None,\n",
       " 'cvec__token_pattern': '(?u)\\\\b\\\\w\\\\w+\\\\b',\n",
       " 'cvec__tokenizer': None,\n",
       " 'cvec__vocabulary': None,\n",
       " 'nb__alpha': 1.0,\n",
       " 'nb__class_prior': None,\n",
       " 'nb__fit_prior': True}"
      ]
     },
     "execution_count": 35,
     "metadata": {},
     "output_type": "execute_result"
    }
   ],
   "source": [
    "# check parameters available in cvec and nb\n",
    "pipe_nb_cvec.get_params()"
   ]
  },
  {
   "cell_type": "markdown",
   "metadata": {},
   "source": [
    "* A list of parameters are put into the pipe parameters for the machine to search through."
   ]
  },
  {
   "cell_type": "code",
   "execution_count": 36,
   "metadata": {},
   "outputs": [],
   "source": [
    "# set parameters for GridSearchCV\n",
    "pipe_nb_cvec_params = {\n",
    "    # Only the top nth number of words from the entire corpus will be saved\n",
    "    'cvec__max_features' : [1000, 2000, 3000, 4000, 5000],\n",
    "    # The number of times the word must occur in at least two documents from the corpus\n",
    "    'cvec__min_df' : [2, 3, 4, 5],\n",
    "    # Ignore words that occur in > n% of the documents from the corpus\n",
    "    'cvec__max_df': [0.9, 0.95],\n",
    "    # determine the number words and \"phrases\" that are considered as features\n",
    "    # each post will be split into n-grams depending on the parameters\n",
    "    # unigrams, bigrams and trigrams\n",
    "    'cvec__ngram_range': [(1,1),(2,2),(3,3)],\n",
    "    'nb__alpha' : [10, 20, 30, 40, 50]\n",
    "}"
   ]
  },
  {
   "cell_type": "markdown",
   "metadata": {},
   "source": [
    "### Use GridSearch CV to search for best parameters for nb and cvec"
   ]
  },
  {
   "cell_type": "code",
   "execution_count": 37,
   "metadata": {},
   "outputs": [],
   "source": [
    "# Instantiate our GridSearchCV object.\n",
    "pipe_nb_cvec_gridsearch = GridSearchCV(pipe_nb_cvec, # nb estimator(uses fit-predict), cvec transformer (uses fit-transform)\n",
    "                                 pipe_nb_cvec_params, # use nb_cvec hyperparameters\n",
    "                                 cv=5, # 5 k-folds\n",
    "                                 )"
   ]
  },
  {
   "cell_type": "code",
   "execution_count": 38,
   "metadata": {},
   "outputs": [
    {
     "name": "stdout",
     "output_type": "stream",
     "text": [
      "Time taken:  160.14\n"
     ]
    }
   ],
   "source": [
    "# starting time\n",
    "start = timeit.default_timer()\n",
    "\n",
    "# Use fit training data into GridSearch and search for best parameters\n",
    "pipe_nb_cvec_gridsearch.fit(X_train, y_train) \n",
    "\n",
    "# end time\n",
    "stop = timeit.default_timer()\n",
    "\n",
    "print('Time taken: ', round(stop - start,2))  "
   ]
  },
  {
   "cell_type": "markdown",
   "metadata": {},
   "source": [
    "#### nb_cvec GridSearchCV best parameters"
   ]
  },
  {
   "cell_type": "markdown",
   "metadata": {},
   "source": [
    "* Below are the best parameters found by GridSearchCV, where cv = 5."
   ]
  },
  {
   "cell_type": "code",
   "execution_count": 39,
   "metadata": {},
   "outputs": [
    {
     "data": {
      "text/plain": [
       "{'cvec__max_df': 0.9,\n",
       " 'cvec__max_features': 1000,\n",
       " 'cvec__min_df': 5,\n",
       " 'cvec__ngram_range': (1, 1),\n",
       " 'nb__alpha': 10}"
      ]
     },
     "execution_count": 39,
     "metadata": {},
     "output_type": "execute_result"
    }
   ],
   "source": [
    "pipe_nb_cvec_gridsearch.best_params_"
   ]
  },
  {
   "cell_type": "markdown",
   "metadata": {},
   "source": [
    "#### nb_cvec GridSearchCV best score"
   ]
  },
  {
   "cell_type": "markdown",
   "metadata": {},
   "source": [
    "* Below is the best cv score obtained during the search."
   ]
  },
  {
   "cell_type": "code",
   "execution_count": 40,
   "metadata": {},
   "outputs": [
    {
     "data": {
      "text/plain": [
       "0.8648987108655616"
      ]
     },
     "execution_count": 40,
     "metadata": {},
     "output_type": "execute_result"
    }
   ],
   "source": [
    "pipe_nb_cvec_gridsearch.best_score_"
   ]
  },
  {
   "cell_type": "markdown",
   "metadata": {},
   "source": [
    "* GridSearch CV took around 160 seconds (approximately 3 mins) to search for the best parameters."
   ]
  },
  {
   "cell_type": "markdown",
   "metadata": {},
   "source": [
    "### Use RandomizedSearchCV to search for best parameters for nb and cvec"
   ]
  },
  {
   "cell_type": "markdown",
   "metadata": {},
   "source": [
    "* Use pipeline and RandomizedSearchCV to obtain the best parameters for Naivebayes alpha parameter and cvec"
   ]
  },
  {
   "cell_type": "markdown",
   "metadata": {},
   "source": [
    "#### Use the same parameters as GridSearchCV:\n",
    "- pipe_nb_cvec (the pipe that was set up earlier, assigned as `pipe_nb_cvec`)\n",
    "- pipe_nb_cvec_params (the parameters that was set up earlier for GridSearchCV to search through and assigned as `pipe_nb_cvec_params`)\n",
    "- cv = 5 (k-fold = 5)"
   ]
  },
  {
   "cell_type": "code",
   "execution_count": 41,
   "metadata": {},
   "outputs": [],
   "source": [
    "# use RandomizedSearchCV\n",
    "# Instantiate our RandomizedSearchCV object.\n",
    "nb_cvec_randomizedsearch = RandomizedSearchCV(pipe_nb_cvec, # nb estimator(uses fit-predict), cvec transformer (uses fit-transform)\n",
    "                                 pipe_nb_cvec_params, # use nb_cvec hyperparameters\n",
    "                                 cv=5, # 5 k-folds\n",
    "                                 n_iter = 20,                  \n",
    "                                 random_state = 42)  # put random_state to 42 so that results are reproducible."
   ]
  },
  {
   "cell_type": "code",
   "execution_count": 42,
   "metadata": {},
   "outputs": [
    {
     "name": "stdout",
     "output_type": "stream",
     "text": [
      "Time taken:  5.13\n"
     ]
    }
   ],
   "source": [
    "# starting time\n",
    "start = timeit.default_timer()\n",
    "\n",
    "# fit training data into RandomizedSearchCV and search for best parameters\n",
    "nb_cvec_randomizedsearch.fit(X_train, y_train)\n",
    "\n",
    "# end time\n",
    "stop = timeit.default_timer()\n",
    "\n",
    "print('Time taken: ', round(stop - start,2))  "
   ]
  },
  {
   "cell_type": "markdown",
   "metadata": {},
   "source": [
    "#### nb_cvec RandomizedSearchCV best parameters."
   ]
  },
  {
   "cell_type": "markdown",
   "metadata": {},
   "source": [
    "* Below is the best parameters obtained during the search."
   ]
  },
  {
   "cell_type": "code",
   "execution_count": 43,
   "metadata": {},
   "outputs": [
    {
     "data": {
      "text/plain": [
       "{'nb__alpha': 10,\n",
       " 'cvec__ngram_range': (1, 1),\n",
       " 'cvec__min_df': 4,\n",
       " 'cvec__max_features': 1000,\n",
       " 'cvec__max_df': 0.9}"
      ]
     },
     "execution_count": 43,
     "metadata": {},
     "output_type": "execute_result"
    }
   ],
   "source": [
    "# best parameters from RandomizedSearchCV\n",
    "nb_cvec_randomizedsearch.best_params_"
   ]
  },
  {
   "cell_type": "markdown",
   "metadata": {},
   "source": [
    "#### nb_cvec RandomizedSearchCV best score."
   ]
  },
  {
   "cell_type": "markdown",
   "metadata": {},
   "source": [
    "* Below is the best cv score obtained during the search."
   ]
  },
  {
   "cell_type": "code",
   "execution_count": 44,
   "metadata": {},
   "outputs": [
    {
     "data": {
      "text/plain": [
       "0.8648802946593002"
      ]
     },
     "execution_count": 44,
     "metadata": {},
     "output_type": "execute_result"
    }
   ],
   "source": [
    "# best score from RandomizedSearchCV\n",
    "nb_cvec_randomizedsearch.best_score_"
   ]
  },
  {
   "cell_type": "markdown",
   "metadata": {},
   "source": [
    "### nb_cvec GridSearchCV score vs nb_cvec RandomizedSearchCV score"
   ]
  },
  {
   "cell_type": "markdown",
   "metadata": {},
   "source": [
    "* GridSearchCV score is 0.8648987 while RandomizedSearchCV score is 0.8648802. The difference is lesser than 0.01. The run time for GridSearchCV is around 161 seconds (approximately 3 mins) and the runtime for Randomized is around 5 seconds. RandomizedSearchCV will be used so that more parameters can be searched quickly."
   ]
  },
  {
   "cell_type": "markdown",
   "metadata": {},
   "source": [
    "* RandomizedSearchCV is useful for searching through multiple parameters quickly. However, it may compensate accuracy for speed. Hence the score of GridSearchCV and RandomizedSearchCV is compared to see if the score of RandomizedSearchCV is comparable to GridSearchCV before deciding to use RandomizedSearchCV."
   ]
  },
  {
   "cell_type": "markdown",
   "metadata": {},
   "source": [
    "### Use best parameters obtained from RandomizedSearchCV to initialize CountVectorizer (cvec) and NaiveBayes(nb); train nb"
   ]
  },
  {
   "cell_type": "markdown",
   "metadata": {},
   "source": [
    "Based on the results from RandomizedSearchCV, the best parameters are:\n",
    "\n",
    "    \n",
    "**CountVectorizer (cvec)**\n",
    "- ngram_range = (1, 1)\n",
    "- min_df = 4,\n",
    "- max_features = 1000\n",
    "- max_df = 0.90\n",
    "\n",
    "**Naive Bayes Multinomial (nb)**\n",
    "- alpha = 10\n",
    "\n",
    "Therefore, these paramters will be used to obtain baseline score for nb_cvec."
   ]
  },
  {
   "cell_type": "markdown",
   "metadata": {},
   "source": [
    "#### Initialize cvec and nb"
   ]
  },
  {
   "cell_type": "code",
   "execution_count": 45,
   "metadata": {},
   "outputs": [],
   "source": [
    "# use best parameters obtained from RandomizedSearchCV to initialize cvec & nb_cvec\n",
    "cvec = CountVectorizer(ngram_range = (1, 1), min_df = 4, max_features = 1000, max_df = 0.90)\n",
    "nb_cvec = MultinomialNB(alpha = 10)"
   ]
  },
  {
   "cell_type": "markdown",
   "metadata": {},
   "source": [
    "#### Use cvec to vectorize X_train data and X_test data"
   ]
  },
  {
   "cell_type": "code",
   "execution_count": 46,
   "metadata": {},
   "outputs": [],
   "source": [
    "# transform X_train and X_test\n",
    "cvec.fit(X_train)\n",
    "X_train_cvec = cvec.transform(X_train)\n",
    "X_test_cvec = cvec.transform(X_test)\n"
   ]
  },
  {
   "cell_type": "markdown",
   "metadata": {},
   "source": [
    "#### Check training data and validate data after vectorizing"
   ]
  },
  {
   "cell_type": "markdown",
   "metadata": {},
   "source": [
    "* Check the data shape for X_train_cvec and X_test_cvec to see if the number of words generated is the same. The number of words used to train should be the same as number of words in the validate data. This indicates that the words the machine learnt are also found in the test data. The machine is using the words it has learnt in the training data to predict. If the words it has learnt are not found in the validate data, it will not be able to predict.\n",
    "\n",
    "\n",
    "* The words in train data is found in validate data. The training data will be fit to the model after vectorizing."
   ]
  },
  {
   "cell_type": "code",
   "execution_count": 47,
   "metadata": {},
   "outputs": [
    {
     "data": {
      "text/plain": [
       "(903, 1000)"
      ]
     },
     "execution_count": 47,
     "metadata": {},
     "output_type": "execute_result"
    }
   ],
   "source": [
    "X_train_cvec.shape"
   ]
  },
  {
   "cell_type": "code",
   "execution_count": 48,
   "metadata": {},
   "outputs": [
    {
     "data": {
      "text/plain": [
       "(301, 1000)"
      ]
     },
     "execution_count": 48,
     "metadata": {},
     "output_type": "execute_result"
    }
   ],
   "source": [
    "X_test_cvec.shape"
   ]
  },
  {
   "cell_type": "markdown",
   "metadata": {},
   "source": [
    "#### Fit training data to nb to train model"
   ]
  },
  {
   "cell_type": "code",
   "execution_count": 49,
   "metadata": {},
   "outputs": [
    {
     "data": {
      "text/plain": [
       "MultinomialNB(alpha=10)"
      ]
     },
     "execution_count": 49,
     "metadata": {},
     "output_type": "execute_result"
    }
   ],
   "source": [
    "# fit to nb_cvec\n",
    "nb_cvec.fit(X_train_cvec, y_train)"
   ]
  },
  {
   "cell_type": "markdown",
   "metadata": {},
   "source": [
    "### Get baseline score for nb_cvec using training data"
   ]
  },
  {
   "cell_type": "markdown",
   "metadata": {},
   "source": [
    "* Below is the baseline score obtained when the model is used to predict on training data."
   ]
  },
  {
   "cell_type": "code",
   "execution_count": 50,
   "metadata": {},
   "outputs": [
    {
     "data": {
      "text/plain": [
       "0.9091915836101883"
      ]
     },
     "execution_count": 50,
     "metadata": {},
     "output_type": "execute_result"
    }
   ],
   "source": [
    "# get baseline score by predicting on X_train_cvec\n",
    "nb_cvec.score(X_train_cvec, y_train)"
   ]
  },
  {
   "cell_type": "markdown",
   "metadata": {},
   "source": [
    "### Get test score for nb_cvec using validate data"
   ]
  },
  {
   "cell_type": "markdown",
   "metadata": {},
   "source": [
    "* Below is the test score obtained when the model is used to predict on validate data. Validate data is data that is not seen by the model before. Hence it is used to gauge how well the model is performing based on the accuracy."
   ]
  },
  {
   "cell_type": "code",
   "execution_count": 51,
   "metadata": {},
   "outputs": [
    {
     "data": {
      "text/plain": [
       "0.8272425249169435"
      ]
     },
     "execution_count": 51,
     "metadata": {},
     "output_type": "execute_result"
    }
   ],
   "source": [
    "# predict on validate data to check model performance\n",
    "nb_cvec.score(X_test_cvec, y_test)"
   ]
  },
  {
   "cell_type": "markdown",
   "metadata": {},
   "source": [
    "* The baseline score is around 0.90 and the test score is around 0.82. The model seems to be performing well as it passed the benchmark score of 80%. I will look at the top list of words and evaluate the results."
   ]
  },
  {
   "cell_type": "markdown",
   "metadata": {},
   "source": [
    "### Evaluate NaiveBayes Multinomial - CountVectorizer model (nb_cvec)"
   ]
  },
  {
   "cell_type": "markdown",
   "metadata": {},
   "source": [
    "* Sort and select the top 50 words that are most commonly found in Anxiety sub-reddits."
   ]
  },
  {
   "cell_type": "code",
   "execution_count": 52,
   "metadata": {},
   "outputs": [],
   "source": [
    "# sort the words, highest probability to lowest probability for class 0 (Anxiety) in nb_cvec\n",
    "an_coef_c1 = zip(cvec.get_feature_names(), nb_cvec.feature_log_prob_[0,:])\n",
    "\n",
    "nb_cvec_an_data_c1 = {word:round(np.exp(logp),4) for word,logp in an_coef_c1}\n",
    "\n",
    "nb_cvec_an_words_c1 = pd.DataFrame({'nb_cvec_an Word c1': nb_cvec_an_data_c1}).sort_values(by = 'nb_cvec_an Word c1', ascending = True)[-50:]"
   ]
  },
  {
   "cell_type": "markdown",
   "metadata": {},
   "source": [
    "* Sort and select the top 50 words that are most commonly found in Depression sub-reddits."
   ]
  },
  {
   "cell_type": "code",
   "execution_count": 53,
   "metadata": {},
   "outputs": [],
   "source": [
    "# sort the words, highest probability to lowest probability for class 1 (Depression) in nb_cvec\n",
    "dep_coef_c1 = zip(cvec.get_feature_names(), nb_cvec.feature_log_prob_[1,:])\n",
    "\n",
    "nb_cvec_dep_data_c1 = {word:round(np.exp(logp),4) for word,logp in dep_coef_c1}\n",
    "\n",
    "nb_cvec_dep_words_c1 = pd.DataFrame({'nb_cvec_dep Word c1': nb_cvec_dep_data_c1}).sort_values(by = 'nb_cvec_dep Word c1', ascending = True)[-50:]"
   ]
  },
  {
   "cell_type": "markdown",
   "metadata": {},
   "source": [
    "* Plot bar charts to show the top 50 words that are most commonly found in Depression and Anxiety sub-reddits respectively."
   ]
  },
  {
   "cell_type": "code",
   "execution_count": 54,
   "metadata": {},
   "outputs": [
    {
     "data": {
      "image/png": "[encoded data removed]",
      "text/plain": [
       "<Figure size 1080x720 with 2 Axes>"
      ]
     },
     "metadata": {
      "needs_background": "light"
     },
     "output_type": "display_data"
    }
   ],
   "source": [
    "fig, ax = plt.subplots(nrows=1, ncols=2, figsize=(15,10))\n",
    "\n",
    "ax = ax.ravel()\n",
    "\n",
    "ax[0].set_title('50 most common words for Anxiety [nb_cvec]', fontsize = 12, fontweight = 'bold', pad = 20.0, loc = 'center')\n",
    "ax[0].set_xlabel('Word Probability', fontsize = 10, fontweight = 'bold', labelpad = 10.0);\n",
    "ax[0].set_xlim(right = 0.013);\n",
    "ax[1].set_title('50 most common words for Depression [nb_cvec]', fontsize = 12, fontweight = 'bold', pad = 20.0, loc = 'center')\n",
    "ax[1].set_xlabel('Word Probability', fontsize = 10, fontweight = 'bold', labelpad = 10.0);\n",
    "ax[1].set_xlim(right = 0.013);\n",
    "\n",
    "nb_cvec_an_words_c1.plot.barh(color = 'green', ax = ax[0], legend = False)\n",
    "nb_cvec_dep_words_c1.plot.barh(color = 'orange', ax = ax[1], legend = False)\n",
    "\n",
    "plt.tight_layout(w_pad = 10.0)"
   ]
  },
  {
   "cell_type": "markdown",
   "metadata": {},
   "source": [
    "* From the bar plots above, in these top 50 words, there are overlapping words like `like`, `feel`, `know`. I will look at the overlapping words found in Anxiety and Depression sub-reddit posts."
   ]
  },
  {
   "cell_type": "code",
   "execution_count": 55,
   "metadata": {},
   "outputs": [
    {
     "data": {
      "text/plain": [
       "['anything',\n",
       " 'need',\n",
       " 'way',\n",
       " 'never',\n",
       " 'would',\n",
       " 'still',\n",
       " 'always',\n",
       " 'bad',\n",
       " 'much',\n",
       " 'work',\n",
       " 'life',\n",
       " 'talk',\n",
       " 'back',\n",
       " 'one',\n",
       " 'something',\n",
       " 'day',\n",
       " 'feeling',\n",
       " 'people',\n",
       " 'help',\n",
       " 'think',\n",
       " 'thought',\n",
       " 'going',\n",
       " 'go',\n",
       " 'year',\n",
       " 'take',\n",
       " 'anyone',\n",
       " 'even',\n",
       " 'say',\n",
       " 'thing',\n",
       " 'really',\n",
       " 'want',\n",
       " 'know',\n",
       " 'time',\n",
       " 'make',\n",
       " 'feel',\n",
       " 'get',\n",
       " 'like']"
      ]
     },
     "execution_count": 55,
     "metadata": {},
     "output_type": "execute_result"
    }
   ],
   "source": [
    "# common words found in both anxiety and depression\n",
    "\n",
    "common = [word for word in nb_cvec_an_words_c1.index if word in nb_cvec_dep_words_c1.index]\n",
    "common"
   ]
  },
  {
   "cell_type": "code",
   "execution_count": 56,
   "metadata": {},
   "outputs": [
    {
     "name": "stdout",
     "output_type": "stream",
     "text": [
      "There is a total of 37 words found in both Anxiety and Depression sub-reddits.\n"
     ]
    }
   ],
   "source": [
    "print(f'There is a total of {len(common)} words found in both Anxiety and Depression sub-reddits.')"
   ]
  },
  {
   "cell_type": "code",
   "execution_count": 57,
   "metadata": {},
   "outputs": [
    {
     "data": {
      "text/plain": [
       "['week',\n",
       " 'come',\n",
       " 'got',\n",
       " 'lot',\n",
       " 'also',\n",
       " 'since',\n",
       " 'happen',\n",
       " 'else',\n",
       " 'getting',\n",
       " 'anxious',\n",
       " 'attack',\n",
       " 'panic',\n",
       " 'anxiety']"
      ]
     },
     "execution_count": 57,
     "metadata": {},
     "output_type": "execute_result"
    }
   ],
   "source": [
    "# unique words in anxiety\n",
    "an_unique = [word for word in nb_cvec_an_words_c1.index if not word in nb_cvec_dep_words_c1.index]\n",
    "an_unique"
   ]
  },
  {
   "cell_type": "code",
   "execution_count": 58,
   "metadata": {},
   "outputs": [
    {
     "name": "stdout",
     "output_type": "stream",
     "text": [
      "There is a total of 13 unique words for Anxiety sub-reddits.\n"
     ]
    }
   ],
   "source": [
    "print(f'There is a total of {len(an_unique)} unique words for Anxiety sub-reddits.')"
   ]
  },
  {
   "cell_type": "code",
   "execution_count": 59,
   "metadata": {},
   "outputs": [
    {
     "data": {
      "text/plain": [
       "['point',\n",
       " 'care',\n",
       " 'someone',\n",
       " 'nothing',\n",
       " 'better',\n",
       " 'could',\n",
       " 'family',\n",
       " 'good',\n",
       " 'every',\n",
       " 'everything',\n",
       " 'anymore',\n",
       " 'friends',\n",
       " 'depression']"
      ]
     },
     "execution_count": 59,
     "metadata": {},
     "output_type": "execute_result"
    }
   ],
   "source": [
    "# unique words in depression\n",
    "dep_unique = [word for word in nb_cvec_dep_words_c1.index if not word in nb_cvec_an_words_c1.index]\n",
    "dep_unique"
   ]
  },
  {
   "cell_type": "code",
   "execution_count": 60,
   "metadata": {},
   "outputs": [
    {
     "name": "stdout",
     "output_type": "stream",
     "text": [
      "There is a total of 13 unique words for Depression sub-reddits.\n"
     ]
    }
   ],
   "source": [
    "print(f'There is a total of {len(dep_unique)} unique words for Depression sub-reddits.')"
   ]
  },
  {
   "cell_type": "markdown",
   "metadata": {},
   "source": [
    "### Conclusion for nb_cvec"
   ]
  },
  {
   "cell_type": "markdown",
   "metadata": {},
   "source": [
    "* The accuracy for nb_cvec is around 82%. The model seems to be performing well as it passed the benchmark score of 80% and the difference between baseline score and test score is 8%.\n",
    "\n",
    "\n",
    "* Out of the top 50 words in Depression and Anxiety, there are 37 common words found to be shared between them. \n",
    "* Out of the top 50 words in Depression and Anxiety, there are only 13 words unique to Depression and 13 words unique to Anxiety. \n",
    "\n",
    "\n",
    "* There is a possibility that the machine could not learn to differentiate effectively due to limited number of unique words that define Depression and Anxiety. "
   ]
  },
  {
   "cell_type": "markdown",
   "metadata": {},
   "source": [
    "## Increase stop words list to remove more stop words to try reduce overfitting and increase accuracy"
   ]
  },
  {
   "cell_type": "markdown",
   "metadata": {},
   "source": [
    "* After looking at the common words shared between Depression and Anxiety, I will put in words that I think will not help in explaining Depression or Anxiety into the stop words list to see if it reduces the overfitting and increase the accuracy score."
   ]
  },
  {
   "cell_type": "code",
   "execution_count": 61,
   "metadata": {},
   "outputs": [],
   "source": [
    "# add more stop words to stop words list\n",
    "def clean_tokenize_lemma_2(text):\n",
    "    \n",
    "    # Remove non-letters.\n",
    "    letters_only = re.sub(\"[^a-zA-Z]\", \" \", text)\n",
    "    \n",
    "    # Convert letters_only to lower case.\n",
    "    lower_case = letters_only.lower()\n",
    "\n",
    "    # Split lower_case up at each space.\n",
    "    words = lower_case.split()\n",
    "    \n",
    "    # assign stopwords list to stops\n",
    "    # increase the number of stopwords in the stopwords list\n",
    "    stops = (stopwords.words('english'))\n",
    "    \n",
    "    # add more stop words\n",
    "    stops.extend(['anything','never','would','still','always','much','one','something','even'])\n",
    "\n",
    "    # Remove stopwords in text using stopwords list from nltk\n",
    "    # and put into a list\n",
    "    meaningful_words = [w for w in words if w not in stops]\n",
    "    \n",
    "    # tag words to be adjective, noun, verb, adverb\n",
    "    tag_dict = {\"J\": wordnet.ADJ,\n",
    "                \"N\": wordnet.NOUN,\n",
    "                \"V\": wordnet.VERB,\n",
    "                \"R\": wordnet.ADV}\n",
    "    \n",
    "    lemma_meaningful_words = {}\n",
    "    \n",
    "    for word in meaningful_words:\n",
    "        tag = nltk.pos_tag(word)[0][1][0].upper()\n",
    "        lemma_tag = tag_dict.get(tag, wordnet.NOUN)\n",
    "        lemma_meaningful_words[word] = lemma_tag\n",
    "    \n",
    "    # initialize lemmatizer\n",
    "    lemmatizer = WordNetLemmatizer()\n",
    "    \n",
    "    # use lemmatizer to shorten words to combine similar forms of the same word\n",
    "    # this returns the word to their lemma, or the base/dictionary form of the word.\n",
    "    # after that put the words into a list and reassign to meaningful_words again\n",
    "    meaningful_words = [lemmatizer.lemmatize(word, lemma_meaningful_words[word]) for word in lemma_meaningful_words]\n",
    "    \n",
    "    # Join the words back into one string separated by space,\n",
    "    # and return the result.\n",
    "    return(\" \".join(meaningful_words))"
   ]
  },
  {
   "cell_type": "markdown",
   "metadata": {},
   "source": [
    "* Clean text again with updated function; `clean_tokenize_lemma_2`\n",
    "* Text cleaned with `clean_tokenize_lemma_2` is put into another column `clean_text_2`"
   ]
  },
  {
   "cell_type": "code",
   "execution_count": 62,
   "metadata": {},
   "outputs": [],
   "source": [
    "full['clean_text_2'] = full['combo_text'].map(clean_tokenize_lemma_2)"
   ]
  },
  {
   "cell_type": "markdown",
   "metadata": {},
   "source": [
    "* Text before cleaning."
   ]
  },
  {
   "cell_type": "code",
   "execution_count": 63,
   "metadata": {},
   "outputs": [
    {
     "data": {
      "text/plain": [
       "'That feeling inside your chest It’s a heavy feeling. It’s kind of like an ache, or like heartburn, and it’s so physical that you start to wonder if you actually did eat something bad. You can’t help but notice it, and even though it hurts, it’s hard not to lean into it. When you indulge the feeling, all the Bad Thoughts come rushing forth. Maybe you’re sad, or angry, or feeling guilty. Self pity is usually in there somewhere. Sometimes it makes tears prick at the corner of your eyes. You try to distract yourself from the feeling by taking up space in your head with anything else. It’s always sort of there in the background. But sometimes it actually subsides, and it feels like such a relief, like you’re free and you can breathe again.'"
      ]
     },
     "execution_count": 63,
     "metadata": {},
     "output_type": "execute_result"
    }
   ],
   "source": [
    "full.loc[5,'combo_text']"
   ]
  },
  {
   "cell_type": "markdown",
   "metadata": {},
   "source": [
    "* Text after cleaning with `clean_tokenize_lemma`. This is shown here so that I can compare the difference between `clean_tokenize_lemma` and `clean_tokenize_lemma_2`"
   ]
  },
  {
   "cell_type": "code",
   "execution_count": 64,
   "metadata": {},
   "outputs": [
    {
     "data": {
      "text/plain": [
       "'feeling inside chest heavy kind like ache heartburn physical start wonder actually eat something bad help notice even though hurt hard lean indulge thought come rushing forth maybe sad angry guilty self pity usually somewhere sometimes make tear prick corner eye try distract take space head anything else always sort background subsides feels relief free breathe'"
      ]
     },
     "execution_count": 64,
     "metadata": {},
     "output_type": "execute_result"
    }
   ],
   "source": [
    "full.loc[5,'clean_text']"
   ]
  },
  {
   "cell_type": "markdown",
   "metadata": {},
   "source": [
    "* Text after cleaning with `clean_tokenize_lemma_2`"
   ]
  },
  {
   "cell_type": "code",
   "execution_count": 65,
   "metadata": {},
   "outputs": [
    {
     "data": {
      "text/plain": [
       "'feeling inside chest heavy kind like ache heartburn physical start wonder actually eat bad help notice though hurt hard lean indulge thought come rushing forth maybe sad angry guilty self pity usually somewhere sometimes make tear prick corner eye try distract take space head else sort background subsides feels relief free breathe'"
      ]
     },
     "execution_count": 65,
     "metadata": {},
     "output_type": "execute_result"
    }
   ],
   "source": [
    "full.loc[5,'clean_text_2']"
   ]
  },
  {
   "cell_type": "code",
   "execution_count": 66,
   "metadata": {},
   "outputs": [
    {
     "name": "stdout",
     "output_type": "stream",
     "text": [
      "Length of text before cleaning is 744\n",
      "Length of text after cleaning with \"clean_tokenize_lemma\" is 363\n",
      "Length of text after cleaning with \"clean_tokenize_lemma_2\" is 332\n"
     ]
    }
   ],
   "source": [
    "print('Length of text before cleaning is', len(full.loc[5,'combo_text']))\n",
    "print('Length of text after cleaning with \"clean_tokenize_lemma\" is', len(full.loc[5,'clean_text']))\n",
    "print('Length of text after cleaning with \"clean_tokenize_lemma_2\" is', len(full.loc[5,'clean_text_2']))"
   ]
  },
  {
   "cell_type": "markdown",
   "metadata": {},
   "source": [
    "* From this particular text, it seems that increasing the stop words changed the cleaning."
   ]
  },
  {
   "cell_type": "markdown",
   "metadata": {},
   "source": [
    "## Re-model Multinomial NaiveBayes model with CountVectorizer (nb_cvec) with  <span style=\"background-color: #FFFF00\">clean_text_2 </span>"
   ]
  },
  {
   "cell_type": "markdown",
   "metadata": {},
   "source": [
    "### Re-build new train_test_split with `clean_text_2`"
   ]
  },
  {
   "cell_type": "code",
   "execution_count": 67,
   "metadata": {},
   "outputs": [],
   "source": [
    "X2 = full['clean_text_2']\n",
    "y2 = full['dep_or_an']"
   ]
  },
  {
   "cell_type": "code",
   "execution_count": 68,
   "metadata": {},
   "outputs": [],
   "source": [
    "# when the data is split with stratify parameter invoked,\n",
    "# it will split the data in the same proportion as the original dataset.\n",
    "# This applies to the train and test datasets as well.\n",
    "\n",
    "X2_train, X2_test, y2_train, y2_test = train_test_split(X2,\n",
    "                                                    y2,\n",
    "                                                    test_size=0.25,\n",
    "                                                    random_state=42,\n",
    "                                                    stratify=y2)"
   ]
  },
  {
   "cell_type": "markdown",
   "metadata": {},
   "source": [
    "* Check the shape to ensure data has been split appropriately. Data is split into 75% train, 25% test."
   ]
  },
  {
   "cell_type": "code",
   "execution_count": 69,
   "metadata": {},
   "outputs": [
    {
     "data": {
      "text/plain": [
       "(903,)"
      ]
     },
     "execution_count": 69,
     "metadata": {},
     "output_type": "execute_result"
    }
   ],
   "source": [
    "X2_train.shape"
   ]
  },
  {
   "cell_type": "code",
   "execution_count": 70,
   "metadata": {},
   "outputs": [
    {
     "data": {
      "text/plain": [
       "(301,)"
      ]
     },
     "execution_count": 70,
     "metadata": {},
     "output_type": "execute_result"
    }
   ],
   "source": [
    "X2_test.shape"
   ]
  },
  {
   "cell_type": "code",
   "execution_count": 71,
   "metadata": {},
   "outputs": [
    {
     "name": "stdout",
     "output_type": "stream",
     "text": [
      "X2_train percentage against total is 0.75.\n",
      "X2_test percentage against total is 0.25.\n"
     ]
    }
   ],
   "source": [
    "print(f'X2_train percentage against total is {903/1204}.')\n",
    "print(f'X2_test percentage against total is {301/1204}.')"
   ]
  },
  {
   "cell_type": "markdown",
   "metadata": {},
   "source": [
    "### Use the same RandomizedSearchCV in nb_cvec to search best parameters for X2 and y2."
   ]
  },
  {
   "cell_type": "code",
   "execution_count": 72,
   "metadata": {},
   "outputs": [
    {
     "data": {
      "text/plain": [
       "RandomizedSearchCV(cv=5,\n",
       "                   estimator=Pipeline(steps=[('cvec', CountVectorizer()),\n",
       "                                             ('nb', MultinomialNB())]),\n",
       "                   n_iter=20,\n",
       "                   param_distributions={'cvec__max_df': [0.9, 0.95],\n",
       "                                        'cvec__max_features': [1000, 2000, 3000,\n",
       "                                                               4000, 5000],\n",
       "                                        'cvec__min_df': [2, 3, 4, 5],\n",
       "                                        'cvec__ngram_range': [(1, 1), (2, 2),\n",
       "                                                              (3, 3)],\n",
       "                                        'nb__alpha': [10, 20, 30, 40, 50]},\n",
       "                   random_state=42)"
      ]
     },
     "execution_count": 72,
     "metadata": {},
     "output_type": "execute_result"
    }
   ],
   "source": [
    "# Fit X2 and y2 training data into RandomizedSearchCV and search for best parameters\n",
    "nb_cvec_randomizedsearch.fit(X2_train, y2_train)"
   ]
  },
  {
   "cell_type": "markdown",
   "metadata": {},
   "source": [
    "#### nb_cvec RandomizedSearchCV best parameters."
   ]
  },
  {
   "cell_type": "markdown",
   "metadata": {},
   "source": [
    "* Below is the best parameters obtained during the search."
   ]
  },
  {
   "cell_type": "code",
   "execution_count": 73,
   "metadata": {},
   "outputs": [
    {
     "data": {
      "text/plain": [
       "{'nb__alpha': 10,\n",
       " 'cvec__ngram_range': (1, 1),\n",
       " 'cvec__min_df': 4,\n",
       " 'cvec__max_features': 1000,\n",
       " 'cvec__max_df': 0.9}"
      ]
     },
     "execution_count": 73,
     "metadata": {},
     "output_type": "execute_result"
    }
   ],
   "source": [
    "# best parameters from RandomizedSearchCV\n",
    "nb_cvec_randomizedsearch.best_params_ "
   ]
  },
  {
   "cell_type": "markdown",
   "metadata": {},
   "source": [
    "Based on the results from RandomizedSearchCV, the best parameters are:\n",
    "\n",
    "    \n",
    "**CountVectorizer (cvec)**\n",
    "- ngram_range = (1, 1)\n",
    "- min_df = 4,\n",
    "- max_features = 1000\n",
    "- max_df = 0.90\n",
    "\n",
    "**Naive Bayes Multinomial (nb)**\n",
    "- alpha = 10\n",
    "\n",
    "Therefore, these paramters will be used to obtain baseline score for nb_cvec."
   ]
  },
  {
   "cell_type": "markdown",
   "metadata": {},
   "source": [
    "#### Initialize cvec and nb"
   ]
  },
  {
   "cell_type": "code",
   "execution_count": 74,
   "metadata": {},
   "outputs": [],
   "source": [
    "# use best parameters obtained from RandomizedSearchCV to initialize cvec & nb_cvec\n",
    "cvec = CountVectorizer(ngram_range = (1, 1), min_df = 4, max_features = 1000, max_df = 0.90)\n",
    "nb_cvec = MultinomialNB(alpha = 10)"
   ]
  },
  {
   "cell_type": "markdown",
   "metadata": {},
   "source": [
    "#### Use cvec to vectorize X2_train and X2_test data"
   ]
  },
  {
   "cell_type": "code",
   "execution_count": 75,
   "metadata": {},
   "outputs": [],
   "source": [
    "# transform X_train and X_test\n",
    "cvec.fit(X2_train)\n",
    "X2_train_cvec = cvec.transform(X2_train)\n",
    "X2_test_cvec = cvec.transform(X2_test)"
   ]
  },
  {
   "cell_type": "markdown",
   "metadata": {},
   "source": [
    "#### Check training and test data after vectorizing"
   ]
  },
  {
   "cell_type": "markdown",
   "metadata": {},
   "source": [
    "* Check the data shape for X2_train_cvec and X2_test_cvec to see if the number of words generated is the same. The number of words used to train should be the same as number of words in the validate data. This indicates that the words the machine learnt are also found in the test data. The machine is using the words it has learnt in the training data to predict. If the words it has learnt are not found in the validate data, it will not be able to predict.\n",
    "\n",
    "\n",
    "* The words in train data is found in validate data. The training data will be fit to the model after vectorizing."
   ]
  },
  {
   "cell_type": "code",
   "execution_count": 76,
   "metadata": {},
   "outputs": [
    {
     "data": {
      "text/plain": [
       "(903, 1000)"
      ]
     },
     "execution_count": 76,
     "metadata": {},
     "output_type": "execute_result"
    }
   ],
   "source": [
    "X2_train_cvec.shape"
   ]
  },
  {
   "cell_type": "code",
   "execution_count": 77,
   "metadata": {},
   "outputs": [
    {
     "data": {
      "text/plain": [
       "(301, 1000)"
      ]
     },
     "execution_count": 77,
     "metadata": {},
     "output_type": "execute_result"
    }
   ],
   "source": [
    "X2_test_cvec.shape"
   ]
  },
  {
   "cell_type": "markdown",
   "metadata": {},
   "source": [
    "#### Fit training data to nb_cvec to train model"
   ]
  },
  {
   "cell_type": "code",
   "execution_count": 78,
   "metadata": {},
   "outputs": [
    {
     "data": {
      "text/plain": [
       "MultinomialNB(alpha=10)"
      ]
     },
     "execution_count": 78,
     "metadata": {},
     "output_type": "execute_result"
    }
   ],
   "source": [
    "# fit to nb_cvec\n",
    "nb_cvec.fit(X2_train_cvec, y2_train)"
   ]
  },
  {
   "cell_type": "markdown",
   "metadata": {},
   "source": [
    "### Get baseline score score for nb_cvec using training data"
   ]
  },
  {
   "cell_type": "code",
   "execution_count": 79,
   "metadata": {},
   "outputs": [
    {
     "data": {
      "text/plain": [
       "0.9125138427464009"
      ]
     },
     "execution_count": 79,
     "metadata": {},
     "output_type": "execute_result"
    }
   ],
   "source": [
    "nb_cvec.score(X2_train_cvec, y2_train)"
   ]
  },
  {
   "cell_type": "markdown",
   "metadata": {},
   "source": [
    "### Get test score score for nb_cvec using validate data"
   ]
  },
  {
   "cell_type": "code",
   "execution_count": 80,
   "metadata": {},
   "outputs": [
    {
     "data": {
      "text/plain": [
       "0.8272425249169435"
      ]
     },
     "execution_count": 80,
     "metadata": {},
     "output_type": "execute_result"
    }
   ],
   "source": [
    "nb_cvec.score(X2_test_cvec, y2_test)"
   ]
  },
  {
   "cell_type": "markdown",
   "metadata": {},
   "source": [
    "* The baseline score is around 0.91 and the test score is around 0.82. The model seems to be performing well as it passed the benchmark score of 80% and the difference between baseline score and test score is 9%. I will look at the top list of words and evaluate the results."
   ]
  },
  {
   "cell_type": "markdown",
   "metadata": {},
   "source": [
    "### Evaluate NaiveBayes Multinomial - CountVectorizer model (nb_cvec)"
   ]
  },
  {
   "cell_type": "markdown",
   "metadata": {},
   "source": [
    "* Sort and select the top 50 words that are most commonly found in Anxiety sub-reddits."
   ]
  },
  {
   "cell_type": "code",
   "execution_count": 81,
   "metadata": {},
   "outputs": [],
   "source": [
    "# sort the words, highest probability to lowest probability for class 0 (Anxiety) in nb_cvec\n",
    "an_coef_c2 = zip(cvec.get_feature_names(), nb_cvec.feature_log_prob_[0,:])\n",
    "\n",
    "nb_cvec_an_data_c2 = {word:round(np.exp(logp),4) for word,logp in an_coef_c2}\n",
    "\n",
    "nb_cvec_an_words_c2 = pd.DataFrame({'nb_cvec_an Word c2': nb_cvec_an_data_c2}).sort_values(by = 'nb_cvec_an Word c2', ascending = True)[-50:]"
   ]
  },
  {
   "cell_type": "markdown",
   "metadata": {},
   "source": [
    "* Sort and select the top 50 words that are most commonly found in Depression sub-reddits"
   ]
  },
  {
   "cell_type": "code",
   "execution_count": 82,
   "metadata": {},
   "outputs": [],
   "source": [
    "# sort the words, highest probability to lowest probability for class 1 (Depression) in nb_cvec\n",
    "dep_coef_c2 = zip(cvec.get_feature_names(), nb_cvec.feature_log_prob_[1,:])\n",
    "\n",
    "nb_cvec_dep_data_c2 = {word:round(np.exp(logp),4) for word,logp in dep_coef_c2}\n",
    "\n",
    "nb_cvec_dep_words_c2 = pd.DataFrame({'nb_cvec_dep Word c2': nb_cvec_dep_data_c2}).sort_values(by = 'nb_cvec_dep Word c2', ascending = True)[-50:]"
   ]
  },
  {
   "cell_type": "markdown",
   "metadata": {},
   "source": [
    "* Plot bar charts to show the top 50 words that are most commonly found in Depression and Anxiety sub-reddits respectively."
   ]
  },
  {
   "cell_type": "code",
   "execution_count": 83,
   "metadata": {},
   "outputs": [
    {
     "data": {
      "image/png": "[encoded data removed]",
      "text/plain": [
       "<Figure size 1080x720 with 2 Axes>"
      ]
     },
     "metadata": {
      "needs_background": "light"
     },
     "output_type": "display_data"
    }
   ],
   "source": [
    "fig, ax = plt.subplots(nrows=1, ncols=2, figsize=(15,10))\n",
    "\n",
    "ax = ax.ravel()\n",
    "\n",
    "ax[0].set_title('50 most common words for Anxiety [nb_cvec]', fontsize = 12, fontweight = 'bold', pad = 20.0, loc = 'center')\n",
    "ax[0].set_xlabel('Word Probability', fontsize = 10, fontweight = 'bold', labelpad = 10.0);\n",
    "ax[0].set_xlim(right = 0.013);\n",
    "ax[1].set_title('50 most common words for Depression [nb_cvec]', fontsize = 12, fontweight = 'bold', pad = 20.0, loc = 'center')\n",
    "ax[1].set_xlabel('Word Probability', fontsize = 10, fontweight = 'bold', labelpad = 10.0);\n",
    "ax[1].set_xlim(right = 0.013);\n",
    "\n",
    "nb_cvec_an_words_c2.plot.barh(color = 'green', ax = ax[0], legend = False)\n",
    "nb_cvec_dep_words_c2.plot.barh(color = 'orange', ax = ax[1], legend = False)\n",
    "\n",
    "plt.tight_layout(w_pad = 10.0)"
   ]
  },
  {
   "cell_type": "markdown",
   "metadata": {},
   "source": [
    "* From the bar plots above, in these top 50 words, there are overlapping words like `like`, `feel`, `know`. Compared to the previous common words there seem to be not much changes in the common words. I will look at the overlapping words found in Anxiety and Depression sub-reddit posts."
   ]
  },
  {
   "cell_type": "code",
   "execution_count": 84,
   "metadata": {},
   "outputs": [
    {
     "data": {
      "text/plain": [
       "['everything',\n",
       " 'someone',\n",
       " 'month',\n",
       " 'need',\n",
       " 'every',\n",
       " 'way',\n",
       " 'happen',\n",
       " 'bad',\n",
       " 'getting',\n",
       " 'work',\n",
       " 'life',\n",
       " 'back',\n",
       " 'talk',\n",
       " 'day',\n",
       " 'feeling',\n",
       " 'people',\n",
       " 'help',\n",
       " 'thought',\n",
       " 'think',\n",
       " 'going',\n",
       " 'go',\n",
       " 'year',\n",
       " 'take',\n",
       " 'anyone',\n",
       " 'say',\n",
       " 'thing',\n",
       " 'really',\n",
       " 'want',\n",
       " 'know',\n",
       " 'time',\n",
       " 'make',\n",
       " 'feel',\n",
       " 'get',\n",
       " 'like']"
      ]
     },
     "execution_count": 84,
     "metadata": {},
     "output_type": "execute_result"
    }
   ],
   "source": [
    "# common words found in both anxiety and depression\n",
    "\n",
    "common = [word for word in nb_cvec_an_words_c2.index if word in nb_cvec_dep_words_c2.index]\n",
    "common"
   ]
  },
  {
   "cell_type": "code",
   "execution_count": 85,
   "metadata": {},
   "outputs": [
    {
     "name": "stdout",
     "output_type": "stream",
     "text": [
      "There is a total of 34 words found in both Anxiety and Depression sub-reddits.\n"
     ]
    }
   ],
   "source": [
    "print(f'There is a total of {len(common)} words found in both Anxiety and Depression sub-reddits.')"
   ]
  },
  {
   "cell_type": "code",
   "execution_count": 86,
   "metadata": {},
   "outputs": [
    {
     "data": {
      "text/plain": [
       "['last',\n",
       " 'cause',\n",
       " 'first',\n",
       " 'sleep',\n",
       " 'right',\n",
       " 'week',\n",
       " 'come',\n",
       " 'got',\n",
       " 'lot',\n",
       " 'also',\n",
       " 'since',\n",
       " 'else',\n",
       " 'anxious',\n",
       " 'attack',\n",
       " 'panic',\n",
       " 'anxiety']"
      ]
     },
     "execution_count": 86,
     "metadata": {},
     "output_type": "execute_result"
    }
   ],
   "source": [
    "# unique words in anxiety\n",
    "an_unique = [word for word in nb_cvec_an_words_c2.index if not word in nb_cvec_dep_words_c2.index]\n",
    "an_unique"
   ]
  },
  {
   "cell_type": "code",
   "execution_count": 87,
   "metadata": {},
   "outputs": [
    {
     "name": "stdout",
     "output_type": "stream",
     "text": [
      "There is a total of 16 unique words for Anxiety sub-reddits.\n"
     ]
    }
   ],
   "source": [
    "print(f'There is a total of {len(an_unique)} unique words for Anxiety sub-reddits.')"
   ]
  },
  {
   "cell_type": "code",
   "execution_count": 88,
   "metadata": {},
   "outputs": [
    {
     "data": {
      "text/plain": [
       "['happy',\n",
       " 'hard',\n",
       " 'try',\n",
       " 'see',\n",
       " 'depressed',\n",
       " 'keep',\n",
       " 'point',\n",
       " 'care',\n",
       " 'could',\n",
       " 'better',\n",
       " 'nothing',\n",
       " 'good',\n",
       " 'family',\n",
       " 'anymore',\n",
       " 'friends',\n",
       " 'depression']"
      ]
     },
     "execution_count": 88,
     "metadata": {},
     "output_type": "execute_result"
    }
   ],
   "source": [
    "# unique words in depression\n",
    "dep_unique = [word for word in nb_cvec_dep_words_c2.index if not word in nb_cvec_an_words_c2.index]\n",
    "dep_unique"
   ]
  },
  {
   "cell_type": "code",
   "execution_count": 89,
   "metadata": {},
   "outputs": [
    {
     "name": "stdout",
     "output_type": "stream",
     "text": [
      "There is a total of 16 unique words for Depression sub-reddits.\n"
     ]
    }
   ],
   "source": [
    "print(f'There is a total of {len(dep_unique)} unique words for Depression sub-reddits.')"
   ]
  },
  {
   "cell_type": "markdown",
   "metadata": {},
   "source": [
    "### Conclusion for nb_cvec re-modelled with `clean_text_2`"
   ]
  },
  {
   "cell_type": "markdown",
   "metadata": {},
   "source": [
    "* The accuracy for nb_cvec is around 82%. The model seems to be performing well as it passed the benchmark score of 80% and the difference between baseline score and test score is 9%.\n",
    "\n",
    "* Out of the top 50 words in Depression and Aniety, there are 34 common words found to be shared between them.\n",
    "* Out of the top 50 words in Depression and Anxiety, there are only 16 words unique to Depression and 16 words unique to Anxiety.\n",
    "\n",
    "\n",
    "* There is a possibility that the machine could not learn to differentiate effectively due to limited number of unique words that define Depression and Anxiety.\n",
    "\n",
    "\n",
    "* The test accuracy score for nb_cvec re-modelled with clean_text_2 is the same as nb_cvec modelled with clean_text (82% vs 82%).\n",
    "* For nb_cvec modelled with clean_text, out of the top 50 words in Depression and Anxiety, there are 37 common words found to be shared between them. Out of the top 50 words in Depression and Anxiety, there are only 13 words unique to Depression and 13 words unique to Anxiety. There is a difference of 3 words in the common words and unique words."
   ]
  },
  {
   "cell_type": "markdown",
   "metadata": {},
   "source": [
    "### Comparison between results using `clean_text` and `clean_text_2` modeled with nb_cvec"
   ]
  },
  {
   "cell_type": "code",
   "execution_count": 90,
   "metadata": {},
   "outputs": [],
   "source": [
    "# resort and re-assign to new variable name\n",
    "an_words_c1 = nb_cvec_an_words_c1.sort_values(by = 'nb_cvec_an Word c1', ascending = True)\n",
    "an_words_c2 = nb_cvec_an_words_c2.sort_values(by = 'nb_cvec_an Word c2', ascending = True)\n",
    "dep_words_c1 = nb_cvec_dep_words_c1.sort_values(by = 'nb_cvec_dep Word c1', ascending = True)\n",
    "dep_words_c2 = nb_cvec_dep_words_c2.sort_values(by = 'nb_cvec_dep Word c2', ascending = True);"
   ]
  },
  {
   "cell_type": "markdown",
   "metadata": {},
   "source": [
    "#### Plot barplot for 50 most common words for Anxiety with texts cleaned with no additional stop words and additional stop words "
   ]
  },
  {
   "cell_type": "code",
   "execution_count": 91,
   "metadata": {},
   "outputs": [
    {
     "data": {
      "image/png": "[encoded data removed]",
      "text/plain": [
       "<Figure size 1440x1440 with 1 Axes>"
      ]
     },
     "metadata": {
      "needs_background": "light"
     },
     "output_type": "display_data"
    }
   ],
   "source": [
    "an_words_c1c2 = pd.concat((an_words_c1,an_words_c2), axis = 1).plot.barh(figsize = (20,20))\n",
    "\n",
    "an_words_c1c2.set_title('50 most common words for Anxiety in [nb_cvec] model', \n",
    "                           fontsize = 12, fontweight = 'bold', pad = 15.0, loc = 'center');\n",
    "\n",
    "an_words_c1c2.set_xlabel('Word Probability', fontsize = 10, fontweight = 'bold', labelpad = 10.0);\n",
    "\n",
    "an_words_c1c2.legend(labels = ('50 most common words for texts cleaned with no addtional stop words (c1)', \n",
    "'50 most common words for texts cleaned with addtional stop words (c2)'));\n"
   ]
  },
  {
   "cell_type": "markdown",
   "metadata": {},
   "source": [
    "### Plot barplot for 50 most common words for Depression with texts cleaned with no additional stop words and additional stop words"
   ]
  },
  {
   "cell_type": "code",
   "execution_count": 92,
   "metadata": {},
   "outputs": [
    {
     "data": {
      "image/png": "[encoded data removed]",
      "text/plain": [
       "<Figure size 1440x1440 with 1 Axes>"
      ]
     },
     "metadata": {
      "needs_background": "light"
     },
     "output_type": "display_data"
    }
   ],
   "source": [
    "dep_words_c1c2 = pd.concat((dep_words_c1, dep_words_c2), axis = 1).plot.barh(figsize = (20,20))\n",
    "\n",
    "dep_words_c1c2.set_title('50 most common words for Depression in [nb_cvec] model', \n",
    "                           fontsize = 12, fontweight = 'bold', pad = 15.0, loc = 'center');\n",
    "\n",
    "dep_words_c1c2.set_xlabel('Word Probability', fontsize = 10, fontweight = 'bold', labelpad = 10.0);\n",
    "\n",
    "dep_words_c1c2.legend(labels = ('50 most common words for texts cleaned with no addtional stop words (c1)', \n",
    "'50 most common words for texts cleaned with no addtional stop words (c2)'));\n"
   ]
  },
  {
   "cell_type": "markdown",
   "metadata": {},
   "source": [
    "### Summary of Comparison"
   ]
  },
  {
   "cell_type": "markdown",
   "metadata": {},
   "source": [
    "* From the bar plots above, the list of 50 words in Depression and Anxiety changed by a small margin when additional stop words are added to clean the texts. \n",
    "\n",
    "* It seems by altering the list of stop words, it will yield different results for the top 50 words in Depression or Anxiety but in this case the change is minimal."
   ]
  },
  {
   "cell_type": "markdown",
   "metadata": {},
   "source": [
    "### Conclusion for Comparison"
   ]
  },
  {
   "cell_type": "markdown",
   "metadata": {},
   "source": [
    "* I will use the data which has the texts cleaned with additional stop words by the function `clean_tokenize_lemma` to build more models."
   ]
  },
  {
   "cell_type": "markdown",
   "metadata": {},
   "source": [
    "## Multinomial NaiveBayes model with TF-IDF Vectorizer (nb_tvec)"
   ]
  },
  {
   "cell_type": "markdown",
   "metadata": {},
   "source": [
    "* For this model, the Multinomial NaiveBayes (nb) will be used to predict if the text came from a Depression or Anxiety sub-reddit. Accuracy is used as the main evaluation metric. The vectorizer used is the `Term Frequency-Inverse Document Frequency (TF-IDF) Vectorizer` (tvec).\n",
    "\n",
    "\n",
    "* Similar to previous model, the nb-cvec, Multinomial NaiveBayes is used in this model, as the nature of the target variable and features is the same as described in nb_cvec.\n",
    "\n",
    "\n",
    "* TF-IDF is a score that tells us which words are important to one document, relative to all other documents. It is deemed that words that occur often in one document but do not occur in many documents contain more predictive power."
   ]
  },
  {
   "cell_type": "markdown",
   "metadata": {},
   "source": [
    "### Create Pipeline for Multinomial NaiveBayes & tvec"
   ]
  },
  {
   "cell_type": "markdown",
   "metadata": {},
   "source": [
    "* Use pipeline and RandomizedSearchCV to obtain the best parameters for Naivebayes alpha parameter and tvec"
   ]
  },
  {
   "cell_type": "code",
   "execution_count": 93,
   "metadata": {},
   "outputs": [],
   "source": [
    "# Set a pipeline up with two stages:\n",
    "# 1. TF-IDF CountVectorizer (transformer)\n",
    "# 2. Naivebayes Multinomial (estimator)\n",
    "pipe_nb_tvec = Pipeline([\n",
    "    ('tvec', TfidfVectorizer()),\n",
    "    ('nb', MultinomialNB())\n",
    "])"
   ]
  },
  {
   "cell_type": "code",
   "execution_count": 94,
   "metadata": {},
   "outputs": [
    {
     "data": {
      "text/plain": [
       "{'memory': None,\n",
       " 'steps': [('tvec', TfidfVectorizer()), ('nb', MultinomialNB())],\n",
       " 'verbose': False,\n",
       " 'tvec': TfidfVectorizer(),\n",
       " 'nb': MultinomialNB(),\n",
       " 'tvec__analyzer': 'word',\n",
       " 'tvec__binary': False,\n",
       " 'tvec__decode_error': 'strict',\n",
       " 'tvec__dtype': numpy.float64,\n",
       " 'tvec__encoding': 'utf-8',\n",
       " 'tvec__input': 'content',\n",
       " 'tvec__lowercase': True,\n",
       " 'tvec__max_df': 1.0,\n",
       " 'tvec__max_features': None,\n",
       " 'tvec__min_df': 1,\n",
       " 'tvec__ngram_range': (1, 1),\n",
       " 'tvec__norm': 'l2',\n",
       " 'tvec__preprocessor': None,\n",
       " 'tvec__smooth_idf': True,\n",
       " 'tvec__stop_words': None,\n",
       " 'tvec__strip_accents': None,\n",
       " 'tvec__sublinear_tf': False,\n",
       " 'tvec__token_pattern': '(?u)\\\\b\\\\w\\\\w+\\\\b',\n",
       " 'tvec__tokenizer': None,\n",
       " 'tvec__use_idf': True,\n",
       " 'tvec__vocabulary': None,\n",
       " 'nb__alpha': 1.0,\n",
       " 'nb__class_prior': None,\n",
       " 'nb__fit_prior': True}"
      ]
     },
     "execution_count": 94,
     "metadata": {},
     "output_type": "execute_result"
    }
   ],
   "source": [
    "# check parameters available in tvec and nb\n",
    "pipe_nb_tvec.get_params()"
   ]
  },
  {
   "cell_type": "markdown",
   "metadata": {},
   "source": [
    "* A list of parameters are put into the pipe parameters for the machine to search through."
   ]
  },
  {
   "cell_type": "code",
   "execution_count": 95,
   "metadata": {},
   "outputs": [],
   "source": [
    "# set parameters for RandomizedSearchCV\n",
    "pipe_nb_tvec_params = {\n",
    "    # Only the top nth number of words from the entire corpus will be saved\n",
    "    'tvec__max_features' : [1000, 2000, 3000, 4000, 5000],\n",
    "    # The number of times the word must occur in at least two documents from the corpus\n",
    "    'tvec__min_df' : [2, 3, 4, 5],\n",
    "    # Ignore words that occur in > n% of the documents from the corpus\n",
    "    'tvec__max_df': [0.9, 0.95],\n",
    "    # determine the number words and \"phrases\" that are considered as features\n",
    "    # each post will be split into n-grams depending on the parameters\n",
    "    # unigrams, bigrams and trigrams\n",
    "    'tvec__ngram_range': [(1,1),(2,2),(3,3)],\n",
    "    'nb__alpha' : [10, 20, 30, 40, 50]\n",
    "}"
   ]
  },
  {
   "cell_type": "markdown",
   "metadata": {},
   "source": [
    " ### Use RandomizedSearchCV to search for best parameters for nb estimator and tvec transformer"
   ]
  },
  {
   "cell_type": "code",
   "execution_count": 96,
   "metadata": {},
   "outputs": [],
   "source": [
    "# Instantiate our RandomizedSearchCV object.\n",
    "nb_tvec_randomizedsearch = RandomizedSearchCV(pipe_nb_tvec, # nb estimator(uses fit-predict), tvec transformer (uses fit-transform)\n",
    "                                 pipe_nb_tvec_params, # use nb_tvec hyperparameters\n",
    "                                 cv=5, # 5 k-folds\n",
    "                                 n_iter = 20,                  \n",
    "                                 random_state = 42)  # put random_state to 42 so that results are reproducible."
   ]
  },
  {
   "cell_type": "code",
   "execution_count": 97,
   "metadata": {},
   "outputs": [
    {
     "data": {
      "text/plain": [
       "RandomizedSearchCV(cv=5,\n",
       "                   estimator=Pipeline(steps=[('tvec', TfidfVectorizer()),\n",
       "                                             ('nb', MultinomialNB())]),\n",
       "                   n_iter=20,\n",
       "                   param_distributions={'nb__alpha': [10, 20, 30, 40, 50],\n",
       "                                        'tvec__max_df': [0.9, 0.95],\n",
       "                                        'tvec__max_features': [1000, 2000, 3000,\n",
       "                                                               4000, 5000],\n",
       "                                        'tvec__min_df': [2, 3, 4, 5],\n",
       "                                        'tvec__ngram_range': [(1, 1), (2, 2),\n",
       "                                                              (3, 3)]},\n",
       "                   random_state=42)"
      ]
     },
     "execution_count": 97,
     "metadata": {},
     "output_type": "execute_result"
    }
   ],
   "source": [
    "# Use fit training data into RandomizedSearchCV and search for best parameters\n",
    "nb_tvec_randomizedsearch.fit(X_train, y_train)"
   ]
  },
  {
   "cell_type": "markdown",
   "metadata": {},
   "source": [
    "#### nb_tvec RandomizedSearchCV best parameters."
   ]
  },
  {
   "cell_type": "markdown",
   "metadata": {},
   "source": [
    "* Below are the best parameters obtained during the search."
   ]
  },
  {
   "cell_type": "code",
   "execution_count": 98,
   "metadata": {},
   "outputs": [
    {
     "data": {
      "text/plain": [
       "{'tvec__ngram_range': (1, 1),\n",
       " 'tvec__min_df': 4,\n",
       " 'tvec__max_features': 2000,\n",
       " 'tvec__max_df': 0.95,\n",
       " 'nb__alpha': 10}"
      ]
     },
     "execution_count": 98,
     "metadata": {},
     "output_type": "execute_result"
    }
   ],
   "source": [
    "# best parameters from RandomizedSearchCV\n",
    "nb_tvec_randomizedsearch.best_params_"
   ]
  },
  {
   "cell_type": "markdown",
   "metadata": {},
   "source": [
    "### Use best parameters obtained from RandomizedSearchCV to initialize TF-IDF CountVectorizer (tvec) and NaiveBayes(nb)"
   ]
  },
  {
   "cell_type": "markdown",
   "metadata": {},
   "source": [
    "Based on the results from nb_tvec RandomizedSearchCV, the best parameters are:\n",
    "\n",
    "**CountVectorizer (tvec)**\n",
    "\n",
    "- ngram_range = (1, 1)\n",
    "- min_df = 4\n",
    "- max_features = 2000\n",
    "- max_df = 0.95\n",
    "\n",
    "\n",
    "**Naive Bayes Multinomial (nb)**\n",
    "\n",
    "- alpha = 10\n",
    "\n",
    "Therefore, these parameters will be used to obtain baseline score for nb_tvec."
   ]
  },
  {
   "cell_type": "markdown",
   "metadata": {},
   "source": [
    "#### Initialize tvec and nb"
   ]
  },
  {
   "cell_type": "code",
   "execution_count": 99,
   "metadata": {},
   "outputs": [],
   "source": [
    "# use best parameters obtained from RandomizedSearchCV to initialize tvec & nb_tvec\n",
    "tvec = TfidfVectorizer(ngram_range = (1, 1), min_df = 4, max_features = 2000, max_df = 0.95)\n",
    "nb_tvec = MultinomialNB(alpha = 10)"
   ]
  },
  {
   "cell_type": "markdown",
   "metadata": {},
   "source": [
    "#### Use tvec to vectorize X_train data and X_test data"
   ]
  },
  {
   "cell_type": "code",
   "execution_count": 100,
   "metadata": {},
   "outputs": [],
   "source": [
    "# transform X_train and X_test\n",
    "tvec.fit(X_train)\n",
    "X_train_tvec = tvec.transform(X_train)\n",
    "X_test_tvec = tvec.transform(X_test)"
   ]
  },
  {
   "cell_type": "markdown",
   "metadata": {},
   "source": [
    "#### Check training data and validate data after vectorizing"
   ]
  },
  {
   "cell_type": "code",
   "execution_count": 101,
   "metadata": {},
   "outputs": [
    {
     "data": {
      "text/plain": [
       "(903, 2000)"
      ]
     },
     "execution_count": 101,
     "metadata": {},
     "output_type": "execute_result"
    }
   ],
   "source": [
    "X_train_tvec.shape"
   ]
  },
  {
   "cell_type": "code",
   "execution_count": 102,
   "metadata": {},
   "outputs": [
    {
     "data": {
      "text/plain": [
       "(301, 2000)"
      ]
     },
     "execution_count": 102,
     "metadata": {},
     "output_type": "execute_result"
    }
   ],
   "source": [
    "X_test_tvec.shape"
   ]
  },
  {
   "cell_type": "markdown",
   "metadata": {},
   "source": [
    "* Check the data shape for X_train_cvec and X_test_cvec to see if the number of words generated is the same. As mentioned, the number of words used to train should be the same as number of words in the validate data. This indicates that the words the machine learnt are also found in the test data. The machine is using the words it has learnt in the training data to predict. If the words it has learnt are not found in the validate data, it will not be able to predict."
   ]
  },
  {
   "cell_type": "markdown",
   "metadata": {},
   "source": [
    "#### Fit training data to nb to train model"
   ]
  },
  {
   "cell_type": "code",
   "execution_count": 103,
   "metadata": {},
   "outputs": [
    {
     "data": {
      "text/plain": [
       "MultinomialNB(alpha=10)"
      ]
     },
     "execution_count": 103,
     "metadata": {},
     "output_type": "execute_result"
    }
   ],
   "source": [
    "# fit to nb_tvec\n",
    "nb_tvec.fit(X_train_tvec, y_train)"
   ]
  },
  {
   "cell_type": "markdown",
   "metadata": {},
   "source": [
    "### Get baseline score for nb_tvec using training data"
   ]
  },
  {
   "cell_type": "markdown",
   "metadata": {},
   "source": [
    "* Below is the baseline score obtained when the model is used to predict on training data."
   ]
  },
  {
   "cell_type": "code",
   "execution_count": 104,
   "metadata": {},
   "outputs": [
    {
     "data": {
      "text/plain": [
       "0.8748615725359912"
      ]
     },
     "execution_count": 104,
     "metadata": {},
     "output_type": "execute_result"
    }
   ],
   "source": [
    "# get baseline score by predicting on X_train_cvec\n",
    "nb_tvec.score(X_train_tvec, y_train)"
   ]
  },
  {
   "cell_type": "markdown",
   "metadata": {},
   "source": [
    "### Get test score for nb_tvec using validate data"
   ]
  },
  {
   "cell_type": "markdown",
   "metadata": {},
   "source": [
    "* Below is the test score obtained when the model is used to predict on validate data. Validate data is data that is not seen by the model before. Hence it is used to gauge how well the model is performing based on the accuracy."
   ]
  },
  {
   "cell_type": "code",
   "execution_count": 105,
   "metadata": {},
   "outputs": [
    {
     "data": {
      "text/plain": [
       "0.760797342192691"
      ]
     },
     "execution_count": 105,
     "metadata": {},
     "output_type": "execute_result"
    }
   ],
   "source": [
    "# predict on validate data to check model performance\n",
    "nb_tvec.score(X_test_tvec, y2_test)"
   ]
  },
  {
   "cell_type": "markdown",
   "metadata": {},
   "source": [
    "* The baseline score is around 0.87 and the test score is around 0.76. The model seems to be performing slightly under the benchmark as it is below benchmark score of 76%. I will look at the top list of words and evaluate the results.\n",
    "\n",
    "\n",
    "* Compared to nb_cvec, nb_cvec is perfoming better (test score of nb_cvec: 82% vs nb_tvec: 76%)."
   ]
  },
  {
   "cell_type": "markdown",
   "metadata": {},
   "source": [
    "### Evaluate NaiveBayes Multinomial - CountVectorizer model (nb_tvec)"
   ]
  },
  {
   "cell_type": "markdown",
   "metadata": {},
   "source": [
    "* Sort and select the top 50 words that are most commonly found in Anxiety sub-reddits."
   ]
  },
  {
   "cell_type": "code",
   "execution_count": 106,
   "metadata": {},
   "outputs": [],
   "source": [
    "# sort the words, highest probability to lowest probability for class 0 (Anxiety) in nb_tvec\n",
    "an_coef = zip(tvec.get_feature_names(), nb_tvec.feature_log_prob_[0,:])\n",
    "\n",
    "nb_tvec_an_data = {word:round(np.exp(logp),4) for word,logp in an_coef}\n",
    "\n",
    "nb_tvec_an_words = pd.DataFrame({'nb_tvec_an Word': nb_tvec_an_data}).sort_values(by = 'nb_tvec_an Word', ascending = True)[-50:]"
   ]
  },
  {
   "cell_type": "markdown",
   "metadata": {},
   "source": [
    "* Sort and select the top 50 words that are most commonly found in Depression sub-reddits."
   ]
  },
  {
   "cell_type": "code",
   "execution_count": 107,
   "metadata": {},
   "outputs": [],
   "source": [
    "# sort the words, highest probability to lowest probability for class 1 (Depression) in nb_tvec\n",
    "dep_coef = zip(tvec.get_feature_names(), nb_tvec.feature_log_prob_[1,:])\n",
    "\n",
    "nb_tvec_dep_data = {word:round(np.exp(logp),4) for word,logp in dep_coef}\n",
    "\n",
    "nb_tvec_dep_words = pd.DataFrame({'nb_tvec_dep Word': nb_tvec_dep_data}).sort_values(by = 'nb_tvec_dep Word', ascending = True)[-50:]"
   ]
  },
  {
   "cell_type": "markdown",
   "metadata": {},
   "source": [
    "* Plot bar charts to show the top 50 words that are most commonly found in Depression and Anxiety sub-reddits respectively."
   ]
  },
  {
   "cell_type": "code",
   "execution_count": 108,
   "metadata": {},
   "outputs": [
    {
     "data": {
      "image/png": "[encoded data removed]",
      "text/plain": [
       "<Figure size 1080x720 with 2 Axes>"
      ]
     },
     "metadata": {
      "needs_background": "light"
     },
     "output_type": "display_data"
    }
   ],
   "source": [
    "fig, ax = plt.subplots(nrows=1, ncols=2, figsize=(15,10))\n",
    "\n",
    "ax = ax.ravel()\n",
    "\n",
    "ax[0].set_title('50 most common words for Anxiety [nb_tvec]', fontsize = 12, fontweight = 'bold', pad = 20.0, loc = 'center')\n",
    "ax[0].set_xlabel('Word Probability', fontsize = 10, fontweight = 'bold', labelpad = 10.0);\n",
    "ax[0].set_xlim(right = 0.0020);\n",
    "ax[1].set_title('50 most common words for Depression [nb_tvec]', fontsize = 12, fontweight = 'bold', pad = 20.0, loc = 'center')\n",
    "ax[1].set_xlabel('Word Probability', fontsize = 10, fontweight = 'bold', labelpad = 10.0);\n",
    "ax[1].set_xlim(right = 0.0020);\n",
    "\n",
    "nb_tvec_an_words.plot.barh(color = 'green', ax = ax[0])\n",
    "nb_tvec_dep_words.plot.barh(color = 'orange', ax = ax[1])\n",
    "\n",
    "plt.tight_layout(w_pad = 10.0)"
   ]
  },
  {
   "cell_type": "markdown",
   "metadata": {},
   "source": [
    "* From the bar plots above, in these top 50 words, there are overlapping words like `make` and `like`. I will look at the overlapping words found in Anxiety and Depression sub-reddit posts."
   ]
  },
  {
   "cell_type": "code",
   "execution_count": 109,
   "metadata": {},
   "outputs": [
    {
     "data": {
      "text/plain": [
       "['never',\n",
       " 'better',\n",
       " 'bad',\n",
       " 'people',\n",
       " 'think',\n",
       " 'thought',\n",
       " 'year',\n",
       " 'going',\n",
       " 'day',\n",
       " 'one',\n",
       " 'go',\n",
       " 'talk',\n",
       " 'even',\n",
       " 'know',\n",
       " 'want',\n",
       " 'feel',\n",
       " 'help',\n",
       " 'feeling',\n",
       " 'say',\n",
       " 'time',\n",
       " 'take',\n",
       " 'thing',\n",
       " 'anyone',\n",
       " 'like',\n",
       " 'really',\n",
       " 'make',\n",
       " 'get']"
      ]
     },
     "execution_count": 109,
     "metadata": {},
     "output_type": "execute_result"
    }
   ],
   "source": [
    "# common words found in both anxiety and depression\n",
    "\n",
    "common = [word for word in nb_tvec_an_words.index if word in nb_tvec_dep_words.index]\n",
    "common"
   ]
  },
  {
   "cell_type": "code",
   "execution_count": 110,
   "metadata": {},
   "outputs": [
    {
     "name": "stdout",
     "output_type": "stream",
     "text": [
      "There is a total of 27 words found in both Anxiety and Depression sub-reddits.\n"
     ]
    }
   ],
   "source": [
    "print(f'There is a total of {len(common)} words found in both Anxiety and Depression sub-reddits.')"
   ]
  },
  {
   "cell_type": "code",
   "execution_count": 111,
   "metadata": {},
   "outputs": [
    {
     "data": {
      "text/plain": [
       "['normal',\n",
       " 'problem',\n",
       " 'days',\n",
       " 'mind',\n",
       " 'first',\n",
       " 'fear',\n",
       " 'night',\n",
       " 'something',\n",
       " 'back',\n",
       " 'getting',\n",
       " 'also',\n",
       " 'happen',\n",
       " 'lot',\n",
       " 'cause',\n",
       " 'start',\n",
       " 'experience',\n",
       " 'since',\n",
       " 'work',\n",
       " 'anxious',\n",
       " 'else',\n",
       " 'attack',\n",
       " 'panic',\n",
       " 'anxiety']"
      ]
     },
     "execution_count": 111,
     "metadata": {},
     "output_type": "execute_result"
    }
   ],
   "source": [
    "# unique words in anxiety\n",
    "an_unique = [word for word in nb_tvec_an_words.index if not word in nb_tvec_dep_words.index]\n",
    "an_unique"
   ]
  },
  {
   "cell_type": "code",
   "execution_count": 112,
   "metadata": {},
   "outputs": [
    {
     "name": "stdout",
     "output_type": "stream",
     "text": [
      "There is a total of 23 unique words for Anxiety sub-reddits.\n"
     ]
    }
   ],
   "source": [
    "print(f'There is a total of {len(an_unique)} unique words for Anxiety sub-reddits.')"
   ]
  },
  {
   "cell_type": "code",
   "execution_count": 113,
   "metadata": {},
   "outputs": [
    {
     "data": {
      "text/plain": [
       "['love',\n",
       " 'hate',\n",
       " 'tired',\n",
       " 'care',\n",
       " 'always',\n",
       " 'die',\n",
       " 'someone',\n",
       " 'keep',\n",
       " 'point',\n",
       " 'shit',\n",
       " 'could',\n",
       " 'fucking',\n",
       " 'good',\n",
       " 'family',\n",
       " 'way',\n",
       " 'friends',\n",
       " 'depressed',\n",
       " 'everything',\n",
       " 'anything',\n",
       " 'would',\n",
       " 'anymore',\n",
       " 'depression',\n",
       " 'life']"
      ]
     },
     "execution_count": 113,
     "metadata": {},
     "output_type": "execute_result"
    }
   ],
   "source": [
    "# unique words in depression\n",
    "dep_unique = [word for word in nb_tvec_dep_words.index if not word in nb_tvec_an_words.index]\n",
    "dep_unique"
   ]
  },
  {
   "cell_type": "code",
   "execution_count": 114,
   "metadata": {},
   "outputs": [
    {
     "name": "stdout",
     "output_type": "stream",
     "text": [
      "There is a total of 23 unique words for Depression sub-reddits.\n"
     ]
    }
   ],
   "source": [
    "print(f'There is a total of {len(dep_unique)} unique words for Depression sub-reddits.')"
   ]
  },
  {
   "cell_type": "markdown",
   "metadata": {},
   "source": [
    "### Conclusion for nb_tvec\n",
    "\n",
    "* The test accuracy score for nb_tvec is around 76%. It is lower than the expected score of 80% accuracy to evaluate the model further. There are 27 common words found in both Depression and Anxiety. There are 23 words unique to Depression and 23 words unique to Anxiety.\n",
    "\n",
    "\n",
    "* nb_cvec is performing better than nb_tvec."
   ]
  },
  {
   "cell_type": "markdown",
   "metadata": {},
   "source": [
    "## Logistic Regression model with CountVectorizer (lr_cvec)"
   ]
  },
  {
   "cell_type": "markdown",
   "metadata": {},
   "source": [
    "* For this model, the Logistic Regression (lr) will be used to predict if the text came from a Depression or Anxiety sub-reddit. Accuracy is used as the main evaluation metric. The vectorizer used is the CountVectorizer (cvec).\n",
    "\n",
    "\n",
    "* Logistic Regression model is used because the target variable is to predict 2 outcomes; to predict if the post came from Depression or Anxiety sub-reddit. The features will be the words in the processed text. In lr, it is assumed that each independent variable  𝑋𝑖  is linearly related to the log of the odds of success. Here, each word is the independent variable 𝑋𝑖. The words are assumed to be independent of one another.\n",
    "\n",
    "\n",
    "* Depression is assigned to be class 1 and Anxiety as class 0.\n",
    "\n",
    "\n",
    "* Below is the general lr equation which define the relationship between features and outcomes. In this case, by exponentiating the coefficient of the feature, it shows that if the word is found in the text and other factors remain constant, what are the odds that the text is from an individual having Depression or Anxiety symptoms.  \n",
    "\n",
    "Where:\n",
    "\n",
    "- $X_i$ is the word as a feature\n",
    "\n",
    "- $\\beta_i$ is the coefficient of each feature\n",
    "\n",
    "\n",
    "$$\n",
    "\\begin{eqnarray*}\n",
    "\\log\\bigg(\\frac{P(Depression=1)}{1-P(Depression=1)}\\bigg) &=& \\beta_0 + \\beta_1X_1 + \\beta_2X_2 + \\cdots + \\beta_pX_p \\\\\n",
    "\\Rightarrow e^{\\Bigg(\\log\\bigg(\\frac{P(Depression=1)}{1-P(Depression=1)}\\bigg)\\Bigg)} &=& e^{\\Bigg(\\beta_0 + \\beta_1X_1 + \\beta_2X_2 + \\cdots + \\beta_pX_p\\Bigg)} \\\\\n",
    "\\Rightarrow \\frac{P(Depression=1)}{1-P(Depression=1)} &=& e^{\\Bigg(\\beta_0 + \\beta_1X_1 + \\beta_2X_2 + \\cdots + \\beta_pX_p\\Bigg)} \\\\\n",
    "\\end{eqnarray*}\n",
    "$$\n",
    "\n",
    "Hence, the appearance of the word $X_i$, means the text is $e^{\\beta_i}$ times as likely to be from Depression, as the model predicts on class 1.\n",
    "\n",
    "\n",
    "\n",
    "\n",
    "\n",
    "\n",
    "\n"
   ]
  },
  {
   "cell_type": "markdown",
   "metadata": {},
   "source": [
    "### Create Pipeline for LogisticRegression & cvec"
   ]
  },
  {
   "cell_type": "markdown",
   "metadata": {},
   "source": [
    "- Use pipeline and RandomizedSearchCV to obtain the best parameters for lr alpha parameter and cvec."
   ]
  },
  {
   "cell_type": "code",
   "execution_count": 115,
   "metadata": {},
   "outputs": [],
   "source": [
    "# Set a pipeline up with two stages:\n",
    "# 1. CountVectorizer (transformer)\n",
    "# 2. Logistic Regression (estimator)\n",
    "pipe_lr_cvec = Pipeline([\n",
    "    ('cvec', CountVectorizer()),\n",
    "    ('lr', LogisticRegression())\n",
    "])"
   ]
  },
  {
   "cell_type": "code",
   "execution_count": 116,
   "metadata": {},
   "outputs": [
    {
     "data": {
      "text/plain": [
       "{'memory': None,\n",
       " 'steps': [('cvec', CountVectorizer()), ('lr', LogisticRegression())],\n",
       " 'verbose': False,\n",
       " 'cvec': CountVectorizer(),\n",
       " 'lr': LogisticRegression(),\n",
       " 'cvec__analyzer': 'word',\n",
       " 'cvec__binary': False,\n",
       " 'cvec__decode_error': 'strict',\n",
       " 'cvec__dtype': numpy.int64,\n",
       " 'cvec__encoding': 'utf-8',\n",
       " 'cvec__input': 'content',\n",
       " 'cvec__lowercase': True,\n",
       " 'cvec__max_df': 1.0,\n",
       " 'cvec__max_features': None,\n",
       " 'cvec__min_df': 1,\n",
       " 'cvec__ngram_range': (1, 1),\n",
       " 'cvec__preprocessor': None,\n",
       " 'cvec__stop_words': None,\n",
       " 'cvec__strip_accents': None,\n",
       " 'cvec__token_pattern': '(?u)\\\\b\\\\w\\\\w+\\\\b',\n",
       " 'cvec__tokenizer': None,\n",
       " 'cvec__vocabulary': None,\n",
       " 'lr__C': 1.0,\n",
       " 'lr__class_weight': None,\n",
       " 'lr__dual': False,\n",
       " 'lr__fit_intercept': True,\n",
       " 'lr__intercept_scaling': 1,\n",
       " 'lr__l1_ratio': None,\n",
       " 'lr__max_iter': 100,\n",
       " 'lr__multi_class': 'auto',\n",
       " 'lr__n_jobs': None,\n",
       " 'lr__penalty': 'l2',\n",
       " 'lr__random_state': None,\n",
       " 'lr__solver': 'lbfgs',\n",
       " 'lr__tol': 0.0001,\n",
       " 'lr__verbose': 0,\n",
       " 'lr__warm_start': False}"
      ]
     },
     "execution_count": 116,
     "metadata": {},
     "output_type": "execute_result"
    }
   ],
   "source": [
    "# check parameters available in tvec and nb\n",
    "pipe_lr_cvec.get_params()"
   ]
  },
  {
   "cell_type": "markdown",
   "metadata": {},
   "source": [
    "### Use RandomizedSearchCV to search for best parameters for lr estimator and cvec transformer"
   ]
  },
  {
   "cell_type": "code",
   "execution_count": 117,
   "metadata": {},
   "outputs": [],
   "source": [
    "# set parameters for RandomizedSearchCV\n",
    "pipe_lr_cvec_params = {\n",
    "    # Only the top nth number of words from the entire corpus will be saved\n",
    "    'cvec__max_features' : [1000, 2000, 3000, 4000, 5000],\n",
    "    # The number of times the word must occur in at least two documents from the corpus\n",
    "    'cvec__min_df' : [2, 3, 4, 5],\n",
    "    # Ignore words that occur in > n% of the documents from the corpus\n",
    "    'cvec__max_df': [0.9, 0.95],\n",
    "    # determine the number words and \"phrases\" that are considered as features\n",
    "    # each post will be split into n-grams depending on the parameters\n",
    "    # unigrams, bigrams and trigrams\n",
    "    'cvec__ngram_range': [(1,1),(2,2),(3,3)],\n",
    "    'lr__C' : [0.01, 0.02, 0.03, 0.04, 0.1]\n",
    "}"
   ]
  },
  {
   "cell_type": "code",
   "execution_count": 118,
   "metadata": {},
   "outputs": [],
   "source": [
    "# Instantiate our RandomizedSearchCV object.\n",
    "lr_cvec_randomizedsearch = RandomizedSearchCV(pipe_lr_cvec, # lr estimator(uses fit-predict), cvec transformer (uses fit-transform)\n",
    "                                 pipe_lr_cvec_params, # use lr_cvec hyperparameters\n",
    "                                 cv=5, # 5 k-folds\n",
    "                                 n_iter = 20,                  \n",
    "                                 random_state = 42)  # put random_state to 42 so that results are reproducible."
   ]
  },
  {
   "cell_type": "code",
   "execution_count": 119,
   "metadata": {
    "scrolled": false
   },
   "outputs": [
    {
     "data": {
      "text/plain": [
       "RandomizedSearchCV(cv=5,\n",
       "                   estimator=Pipeline(steps=[('cvec', CountVectorizer()),\n",
       "                                             ('lr', LogisticRegression())]),\n",
       "                   n_iter=20,\n",
       "                   param_distributions={'cvec__max_df': [0.9, 0.95],\n",
       "                                        'cvec__max_features': [1000, 2000, 3000,\n",
       "                                                               4000, 5000],\n",
       "                                        'cvec__min_df': [2, 3, 4, 5],\n",
       "                                        'cvec__ngram_range': [(1, 1), (2, 2),\n",
       "                                                              (3, 3)],\n",
       "                                        'lr__C': [0.01, 0.02, 0.03, 0.04, 0.1]},\n",
       "                   random_state=42)"
      ]
     },
     "execution_count": 119,
     "metadata": {},
     "output_type": "execute_result"
    }
   ],
   "source": [
    "# Fit training data into RandomizedSearchCV and search for best parameters\n",
    "lr_cvec_randomizedsearch.fit(X_train, y_train)"
   ]
  },
  {
   "cell_type": "markdown",
   "metadata": {},
   "source": [
    "#### lr_cvec RandomizedSearch best parameters"
   ]
  },
  {
   "cell_type": "markdown",
   "metadata": {},
   "source": [
    "* Below are the best parameters obtained during the search."
   ]
  },
  {
   "cell_type": "code",
   "execution_count": 120,
   "metadata": {},
   "outputs": [
    {
     "data": {
      "text/plain": [
       "{'lr__C': 0.04,\n",
       " 'cvec__ngram_range': (1, 1),\n",
       " 'cvec__min_df': 5,\n",
       " 'cvec__max_features': 5000,\n",
       " 'cvec__max_df': 0.95}"
      ]
     },
     "execution_count": 120,
     "metadata": {},
     "output_type": "execute_result"
    }
   ],
   "source": [
    "lr_cvec_randomizedsearch.best_params_"
   ]
  },
  {
   "cell_type": "markdown",
   "metadata": {},
   "source": [
    "### Use best parameters obtained from RandomizedSearchCV to initialize CountVectorizer (cvec) and LogisticRegression(lr)"
   ]
  },
  {
   "cell_type": "markdown",
   "metadata": {},
   "source": [
    "Based on the results from lr_cvec RandomizedSearchCV, the best parameters are:\n",
    "\n",
    "**CountVectorizer (cvec)**\n",
    "\n",
    "- ngram_range = (1, 1)\n",
    "- min_df = 5\n",
    "- max_features = 5000\n",
    "- max_df = 0.95\n",
    "\n",
    "\n",
    "**Logistic Regression (lr)**\n",
    "\n",
    "- C = 0.04\n",
    "\n",
    "Therefore, these parameters will be used to obtain baseline score for lr_cvec."
   ]
  },
  {
   "cell_type": "markdown",
   "metadata": {},
   "source": [
    "#### Initialize cvec and lr"
   ]
  },
  {
   "cell_type": "code",
   "execution_count": 121,
   "metadata": {},
   "outputs": [],
   "source": [
    "# use best parameters obtained from RandomizedSearchCV to initialize cvec & lr_cvec\n",
    "cvec = CountVectorizer(ngram_range = (1, 1), min_df = 5, max_features = 5000, max_df = 0.95)\n",
    "lr_cvec = LogisticRegression(C = 0.04)"
   ]
  },
  {
   "cell_type": "markdown",
   "metadata": {},
   "source": [
    "#### Use cvec to vectorize X_train data and X_test data"
   ]
  },
  {
   "cell_type": "code",
   "execution_count": 122,
   "metadata": {},
   "outputs": [],
   "source": [
    "# transform X_train and X_test\n",
    "cvec.fit(X_train)\n",
    "X_train_cvec = cvec.transform(X_train)\n",
    "X_test_cvec = cvec.transform(X_test)"
   ]
  },
  {
   "cell_type": "markdown",
   "metadata": {},
   "source": [
    "#### Check training data and validate data after vectorizing"
   ]
  },
  {
   "cell_type": "code",
   "execution_count": 123,
   "metadata": {},
   "outputs": [
    {
     "data": {
      "text/plain": [
       "(903, 1705)"
      ]
     },
     "execution_count": 123,
     "metadata": {},
     "output_type": "execute_result"
    }
   ],
   "source": [
    "X_train_cvec.shape"
   ]
  },
  {
   "cell_type": "code",
   "execution_count": 124,
   "metadata": {},
   "outputs": [
    {
     "data": {
      "text/plain": [
       "(301, 1705)"
      ]
     },
     "execution_count": 124,
     "metadata": {},
     "output_type": "execute_result"
    }
   ],
   "source": [
    "X_test_cvec.shape"
   ]
  },
  {
   "cell_type": "markdown",
   "metadata": {},
   "source": [
    "* Check the data shape for X_train_cvec and X_test_cvec to see if the number of words generated is the same. As mentioned, the number of words used to train should be the same as number of words in the validate data. This indicates that the words the machine learnt are also found in the test data. The machine is using the words it has learnt in the training data to predict. If the words it has learnt are not found in the validate data, it will not be able to predict."
   ]
  },
  {
   "cell_type": "markdown",
   "metadata": {},
   "source": [
    "#### Fit training data to lr to train model"
   ]
  },
  {
   "cell_type": "code",
   "execution_count": 125,
   "metadata": {},
   "outputs": [
    {
     "data": {
      "text/plain": [
       "LogisticRegression(C=0.04)"
      ]
     },
     "execution_count": 125,
     "metadata": {},
     "output_type": "execute_result"
    }
   ],
   "source": [
    "# fit to lr_cvec\n",
    "lr_cvec.fit(X_train_cvec, y_train)"
   ]
  },
  {
   "cell_type": "markdown",
   "metadata": {},
   "source": [
    "### Get baseline score for lr_cvec using training data"
   ]
  },
  {
   "cell_type": "markdown",
   "metadata": {},
   "source": [
    "* Below is the baseline score obtained when the model is used to predict on training data."
   ]
  },
  {
   "cell_type": "code",
   "execution_count": 126,
   "metadata": {},
   "outputs": [
    {
     "data": {
      "text/plain": [
       "0.9545957918050941"
      ]
     },
     "execution_count": 126,
     "metadata": {},
     "output_type": "execute_result"
    }
   ],
   "source": [
    "lr_cvec.score(X_train_cvec, y_train)"
   ]
  },
  {
   "cell_type": "markdown",
   "metadata": {},
   "source": [
    "### Get test score for lr_cvec using validate data"
   ]
  },
  {
   "cell_type": "markdown",
   "metadata": {},
   "source": [
    "* Below is the test score obtained when the model is used to predict on validate data. Validate data is data that is not seen by the model before. Hence it is used to gauge how well the model is performing based on the accuracy."
   ]
  },
  {
   "cell_type": "code",
   "execution_count": 127,
   "metadata": {},
   "outputs": [
    {
     "data": {
      "text/plain": [
       "0.8704318936877077"
      ]
     },
     "execution_count": 127,
     "metadata": {},
     "output_type": "execute_result"
    }
   ],
   "source": [
    "# predict on validate data to check model performance\n",
    "lr_cvec.score(X_test_cvec, y_test)"
   ]
  },
  {
   "cell_type": "markdown",
   "metadata": {},
   "source": [
    "* The baseline score is around 0.95 and the test score is around 0.87. The model seems to be performing well as it passed the benchmark score of 80% and the difference between baseline score and test score is 8%. I will look at the top list of words and evaluate the results."
   ]
  },
  {
   "cell_type": "markdown",
   "metadata": {},
   "source": [
    "### Evaluate LogisticRegression - CountVectorizer model (lr_cvec)"
   ]
  },
  {
   "cell_type": "markdown",
   "metadata": {},
   "source": [
    "* Sort and select the top 50 words that are most commonly found in Depression and Anxiety sub-reddits."
   ]
  },
  {
   "cell_type": "code",
   "execution_count": 128,
   "metadata": {},
   "outputs": [],
   "source": [
    "# sort the words, highest probability to lowest probability in lr_cvec\n",
    "lr_coef = zip(cvec.get_feature_names(), lr_cvec.coef_.flatten())\n",
    "\n",
    "lr_coef_data = {word:round(np.exp(coef),4) for word,coef in lr_coef}\n",
    "\n",
    "lr_coef_words = pd.DataFrame({'lr_cvec Word': lr_coef_data}).sort_values(by = 'lr_cvec Word', ascending = True)[-50:]"
   ]
  },
  {
   "cell_type": "markdown",
   "metadata": {},
   "source": [
    "* Plot bar chart to show the top 50 words that are most commonly found in Depression and Anxiety sub-reddits."
   ]
  },
  {
   "cell_type": "code",
   "execution_count": 129,
   "metadata": {},
   "outputs": [
    {
     "data": {
      "image/png": "[encoded data removed]",
      "text/plain": [
       "<Figure size 648x648 with 1 Axes>"
      ]
     },
     "metadata": {
      "needs_background": "light"
     },
     "output_type": "display_data"
    }
   ],
   "source": [
    "Highest_50_words = lr_coef_words.plot.barh(figsize = (9,9), legend = False, sort_columns = True)\n",
    "\n",
    "Highest_50_words.set_title('Top 50 coefficients for words from [lr_cvec] model', \n",
    "                           fontsize = 12, fontweight = 'bold', pad = 15.0, loc = 'center');\n",
    "\n",
    "Highest_50_words.set_xlabel('Word Coefficient', fontsize = 10, fontweight = 'bold', labelpad = 10.0);\n",
    "Highest_50_words.axvline(x = 1.77, linestyle = '--', color = 'black');\n",
    "Highest_50_words.axvline(x = 1.43, linestyle = '--', color = 'maroon');"
   ]
  },
  {
   "cell_type": "code",
   "execution_count": 130,
   "metadata": {},
   "outputs": [
    {
     "data": {
      "text/html": [
       "<div>\n",
       "<style scoped>\n",
       "    .dataframe tbody tr th:only-of-type {\n",
       "        vertical-align: middle;\n",
       "    }\n",
       "\n",
       "    .dataframe tbody tr th {\n",
       "        vertical-align: top;\n",
       "    }\n",
       "\n",
       "    .dataframe thead th {\n",
       "        text-align: right;\n",
       "    }\n",
       "</style>\n",
       "<table border=\"1\" class=\"dataframe\">\n",
       "  <thead>\n",
       "    <tr style=\"text-align: right;\">\n",
       "      <th></th>\n",
       "      <th>lr_cvec Word</th>\n",
       "    </tr>\n",
       "  </thead>\n",
       "  <tbody>\n",
       "    <tr>\n",
       "      <th>life</th>\n",
       "      <td>1.3395</td>\n",
       "    </tr>\n",
       "    <tr>\n",
       "      <th>depressed</th>\n",
       "      <td>1.4346</td>\n",
       "    </tr>\n",
       "    <tr>\n",
       "      <th>depression</th>\n",
       "      <td>1.7708</td>\n",
       "    </tr>\n",
       "  </tbody>\n",
       "</table>\n",
       "</div>"
      ],
      "text/plain": [
       "            lr_cvec Word\n",
       "life              1.3395\n",
       "depressed         1.4346\n",
       "depression        1.7708"
      ]
     },
     "execution_count": 130,
     "metadata": {},
     "output_type": "execute_result"
    }
   ],
   "source": [
    "lr_coef_words.tail(3)"
   ]
  },
  {
   "cell_type": "markdown",
   "metadata": {},
   "source": [
    "### Conclusion for lr_cvec\n",
    "\n",
    "* From the bar plots above, in these top 50 words, `depression`, `depressed` and `life` have the largest effect in lr. \n",
    "\n",
    "* As the model predicts on class: 1, which is Depression, these words predict for Depression. For example, for every 1 increase in mention of `depression` in the text, the odds of the text about depression increases by 1.77 times, if all other factors are kept constant. "
   ]
  },
  {
   "cell_type": "markdown",
   "metadata": {},
   "source": [
    "## Logistic Regression model with TF-IDF Vectorizer (lr_tvec)"
   ]
  },
  {
   "cell_type": "markdown",
   "metadata": {},
   "source": [
    "* For this model, the Logistic Regression (lr) will be used to predict if the text came from a Depression or Anxiety sub-reddit. Accuracy is used as the main evaluation metric. The vectorizer used is the TF-IDF Vectorizer (tvec).\n",
    "\n",
    "\n",
    "* Logistic Regression model is used because the target variable is to predict 2 outcomes; to predict if the post came from Depression or Anxiety sub-reddit. The features will be the words in the processed text. In lr, it is assumed that each independent variable 𝑋𝑖 is linearly related to the log of the odds of success. Here, each word is the independent variable 𝑋𝑖. The words are assumed to be independent of one another.\n",
    "\n",
    "\n",
    "* Depression is assigned to be class 1 and Anxiety as class 0.\n",
    "\n",
    "\n",
    "* As mentioned previously, by exponentiating the coefficient of the feature, it shows that if the word is found in the text and other factors remain constant, what are the odds that the text is from an individual having Depression or Anxiety symptoms."
   ]
  },
  {
   "cell_type": "markdown",
   "metadata": {},
   "source": [
    "### Create Pipeline for LogisticRegression & tvec"
   ]
  },
  {
   "cell_type": "markdown",
   "metadata": {},
   "source": [
    "* Use pipeline and RandomizedSearchCV to obtain the best parameters for lr alpha parameter and tvec."
   ]
  },
  {
   "cell_type": "code",
   "execution_count": 131,
   "metadata": {},
   "outputs": [],
   "source": [
    "# Set a pipeline up with two stages:\n",
    "# 1. TF-IDF CountVectorizer (transformer)\n",
    "# 2. Logistic Regression (estimator)\n",
    "pipe_lr_tvec = Pipeline([\n",
    "    ('tvec',  TfidfVectorizer()),\n",
    "    ('lr', LogisticRegression())\n",
    "])"
   ]
  },
  {
   "cell_type": "code",
   "execution_count": 132,
   "metadata": {},
   "outputs": [
    {
     "data": {
      "text/plain": [
       "{'memory': None,\n",
       " 'steps': [('tvec', TfidfVectorizer()), ('lr', LogisticRegression())],\n",
       " 'verbose': False,\n",
       " 'tvec': TfidfVectorizer(),\n",
       " 'lr': LogisticRegression(),\n",
       " 'tvec__analyzer': 'word',\n",
       " 'tvec__binary': False,\n",
       " 'tvec__decode_error': 'strict',\n",
       " 'tvec__dtype': numpy.float64,\n",
       " 'tvec__encoding': 'utf-8',\n",
       " 'tvec__input': 'content',\n",
       " 'tvec__lowercase': True,\n",
       " 'tvec__max_df': 1.0,\n",
       " 'tvec__max_features': None,\n",
       " 'tvec__min_df': 1,\n",
       " 'tvec__ngram_range': (1, 1),\n",
       " 'tvec__norm': 'l2',\n",
       " 'tvec__preprocessor': None,\n",
       " 'tvec__smooth_idf': True,\n",
       " 'tvec__stop_words': None,\n",
       " 'tvec__strip_accents': None,\n",
       " 'tvec__sublinear_tf': False,\n",
       " 'tvec__token_pattern': '(?u)\\\\b\\\\w\\\\w+\\\\b',\n",
       " 'tvec__tokenizer': None,\n",
       " 'tvec__use_idf': True,\n",
       " 'tvec__vocabulary': None,\n",
       " 'lr__C': 1.0,\n",
       " 'lr__class_weight': None,\n",
       " 'lr__dual': False,\n",
       " 'lr__fit_intercept': True,\n",
       " 'lr__intercept_scaling': 1,\n",
       " 'lr__l1_ratio': None,\n",
       " 'lr__max_iter': 100,\n",
       " 'lr__multi_class': 'auto',\n",
       " 'lr__n_jobs': None,\n",
       " 'lr__penalty': 'l2',\n",
       " 'lr__random_state': None,\n",
       " 'lr__solver': 'lbfgs',\n",
       " 'lr__tol': 0.0001,\n",
       " 'lr__verbose': 0,\n",
       " 'lr__warm_start': False}"
      ]
     },
     "execution_count": 132,
     "metadata": {},
     "output_type": "execute_result"
    }
   ],
   "source": [
    "# check parameters available in tvec and nb\n",
    "pipe_lr_tvec.get_params()"
   ]
  },
  {
   "cell_type": "markdown",
   "metadata": {},
   "source": [
    "### Use RandomizedSearchCV to search for best parameters for lr estimator and tvec transformer"
   ]
  },
  {
   "cell_type": "code",
   "execution_count": 133,
   "metadata": {},
   "outputs": [],
   "source": [
    "# set parameters for RandomizedSearchCV\n",
    "pipe_lr_tvec_params = {\n",
    "    # Only the top nth number of words from the entire corpus will be saved\n",
    "    'tvec__max_features' : [1000, 2000, 3000, 4000, 5000],\n",
    "    # The number of times the word must occur in at least two documents from the corpus\n",
    "    'tvec__min_df' : [2, 3, 4, 5],\n",
    "    # Ignore words that occur in > n% of the documents from the corpus\n",
    "    'tvec__max_df': [0.9, 0.95],\n",
    "    # determine the number words and \"phrases\" that are considered as features\n",
    "    # each post will be split into n-grams depending on the parameters\n",
    "    # unigrams, bigrams and trigrams\n",
    "    'tvec__ngram_range': [(1,1),(2,2),(3,3)],\n",
    "    'lr__C' : [0.01, 0.02, 0.03, 0.04, 0.1]\n",
    "}"
   ]
  },
  {
   "cell_type": "code",
   "execution_count": 134,
   "metadata": {},
   "outputs": [],
   "source": [
    "# Instantiate our RandomizedSearchCV object.\n",
    "lr_tvec_randomizedsearch = RandomizedSearchCV(pipe_lr_tvec, # lr estimator(uses fit-predict), cvec transformer (uses fit-transform)\n",
    "                                 pipe_lr_tvec_params, # use lr_cvec hyperparameters\n",
    "                                 cv=5, # 5 k-folds\n",
    "                                 n_iter = 20,                  \n",
    "                                 random_state = 42)  # put random_state to 42 so that results are reproducible."
   ]
  },
  {
   "cell_type": "code",
   "execution_count": 135,
   "metadata": {},
   "outputs": [
    {
     "data": {
      "text/plain": [
       "RandomizedSearchCV(cv=5,\n",
       "                   estimator=Pipeline(steps=[('tvec', TfidfVectorizer()),\n",
       "                                             ('lr', LogisticRegression())]),\n",
       "                   n_iter=20,\n",
       "                   param_distributions={'lr__C': [0.01, 0.02, 0.03, 0.04, 0.1],\n",
       "                                        'tvec__max_df': [0.9, 0.95],\n",
       "                                        'tvec__max_features': [1000, 2000, 3000,\n",
       "                                                               4000, 5000],\n",
       "                                        'tvec__min_df': [2, 3, 4, 5],\n",
       "                                        'tvec__ngram_range': [(1, 1), (2, 2),\n",
       "                                                              (3, 3)]},\n",
       "                   random_state=42)"
      ]
     },
     "execution_count": 135,
     "metadata": {},
     "output_type": "execute_result"
    }
   ],
   "source": [
    "# Fit training data into RandomizedSearchCV and search for best parameters\n",
    "lr_tvec_randomizedsearch.fit(X_train, y_train)"
   ]
  },
  {
   "cell_type": "markdown",
   "metadata": {},
   "source": [
    "#### lr_tvec RandomizedSearchCV best parameters"
   ]
  },
  {
   "cell_type": "markdown",
   "metadata": {},
   "source": [
    "* Below are the best parameters obtained during the search."
   ]
  },
  {
   "cell_type": "markdown",
   "metadata": {},
   "source": [
    "### Use best parameters obtained from RandomizedSearchCV to initialize CountVectorizer (cvec) and LogisticRegression(lr)"
   ]
  },
  {
   "cell_type": "code",
   "execution_count": 136,
   "metadata": {},
   "outputs": [
    {
     "data": {
      "text/plain": [
       "{'tvec__ngram_range': (1, 1),\n",
       " 'tvec__min_df': 2,\n",
       " 'tvec__max_features': 5000,\n",
       " 'tvec__max_df': 0.95,\n",
       " 'lr__C': 0.1}"
      ]
     },
     "execution_count": 136,
     "metadata": {},
     "output_type": "execute_result"
    }
   ],
   "source": [
    "lr_tvec_randomizedsearch.best_params_"
   ]
  },
  {
   "cell_type": "markdown",
   "metadata": {},
   "source": [
    "Based on the results from lr_tvec RandomizedSearchCV, the best parameters are:\n",
    "\n",
    "**CountVectorizer (tvec)**\n",
    "\n",
    "- ngram_range = (1, 1)\n",
    "- min_df = 2\n",
    "- max_features = 5000\n",
    "- max_df = 0.95\n",
    "\n",
    "\n",
    "**Logistic Regression (lr)**\n",
    "\n",
    "- C = 0.1\n",
    "\n",
    "Therefore, these parameters will be used to obtain baseline score for lr_tvec."
   ]
  },
  {
   "cell_type": "markdown",
   "metadata": {},
   "source": [
    "#### Initialize tvec and lr"
   ]
  },
  {
   "cell_type": "code",
   "execution_count": 137,
   "metadata": {},
   "outputs": [],
   "source": [
    "# use best parameters obtained from RandomizedSearchCV to initialize tvec & lr_tvec\n",
    "tvec = TfidfVectorizer(ngram_range = (1, 1), min_df = 2, max_features = 5000, max_df = 0.95)\n",
    "lr_tvec = LogisticRegression(C = 0.1)"
   ]
  },
  {
   "cell_type": "markdown",
   "metadata": {},
   "source": [
    "#### Use tvec to vectorize X_train data and X_test data"
   ]
  },
  {
   "cell_type": "code",
   "execution_count": 138,
   "metadata": {},
   "outputs": [],
   "source": [
    "# transform X_train and X_test\n",
    "tvec.fit(X_train)\n",
    "X_train_tvec = tvec.transform(X_train)\n",
    "X_test_tvec = tvec.transform(X_test)"
   ]
  },
  {
   "cell_type": "markdown",
   "metadata": {},
   "source": [
    "#### Check training data and validate data after vectorizing"
   ]
  },
  {
   "cell_type": "code",
   "execution_count": 139,
   "metadata": {},
   "outputs": [
    {
     "data": {
      "text/plain": [
       "(903, 3548)"
      ]
     },
     "execution_count": 139,
     "metadata": {},
     "output_type": "execute_result"
    }
   ],
   "source": [
    "X_train_tvec.shape"
   ]
  },
  {
   "cell_type": "code",
   "execution_count": 140,
   "metadata": {},
   "outputs": [
    {
     "data": {
      "text/plain": [
       "(301, 3548)"
      ]
     },
     "execution_count": 140,
     "metadata": {},
     "output_type": "execute_result"
    }
   ],
   "source": [
    "X_test_tvec.shape"
   ]
  },
  {
   "cell_type": "markdown",
   "metadata": {},
   "source": [
    "* Check the data shape for X_train_tvec and X_test_tvec to see if the number of words generated is the same. As mentioned, the number of words used to train should be the same as number of words in the validate data. This indicates that the words the machine learnt are also found in the test data. The machine is using the words it has learnt in the training data to predict. If the words it has learnt are not found in the validate data, it will not be able to predict."
   ]
  },
  {
   "cell_type": "markdown",
   "metadata": {},
   "source": [
    "#### Fit training data to lr to train model"
   ]
  },
  {
   "cell_type": "code",
   "execution_count": 141,
   "metadata": {},
   "outputs": [
    {
     "data": {
      "text/plain": [
       "LogisticRegression(C=0.1)"
      ]
     },
     "execution_count": 141,
     "metadata": {},
     "output_type": "execute_result"
    }
   ],
   "source": [
    "lr_tvec.fit(X_train_tvec, y_train)"
   ]
  },
  {
   "cell_type": "markdown",
   "metadata": {},
   "source": [
    "### Get baseline score for lr_tvec using training data"
   ]
  },
  {
   "cell_type": "markdown",
   "metadata": {},
   "source": [
    "* Below is the baseline score obtained when the model is used to predict on training data."
   ]
  },
  {
   "cell_type": "code",
   "execution_count": 142,
   "metadata": {},
   "outputs": [
    {
     "data": {
      "text/plain": [
       "0.9147286821705426"
      ]
     },
     "execution_count": 142,
     "metadata": {},
     "output_type": "execute_result"
    }
   ],
   "source": [
    "lr_tvec.score(X_train_tvec, y_train)"
   ]
  },
  {
   "cell_type": "markdown",
   "metadata": {},
   "source": [
    "### Get test score for lr_tvec using validate data"
   ]
  },
  {
   "cell_type": "markdown",
   "metadata": {},
   "source": [
    "* Below is the test score obtained when the model is used to predict on validate data. Validate data is data that is not seen by the model before. Hence it is used to gauge how well the model is performing based on the accuracy."
   ]
  },
  {
   "cell_type": "code",
   "execution_count": 143,
   "metadata": {},
   "outputs": [
    {
     "data": {
      "text/plain": [
       "0.7906976744186046"
      ]
     },
     "execution_count": 143,
     "metadata": {},
     "output_type": "execute_result"
    }
   ],
   "source": [
    "# predict on validate data to check model performance\n",
    "lr_tvec.score(X_test_tvec, y_test)"
   ]
  },
  {
   "cell_type": "markdown",
   "metadata": {},
   "source": [
    "### Conclusion for lr_tvec"
   ]
  },
  {
   "cell_type": "markdown",
   "metadata": {},
   "source": [
    "* The baseline score is around 0.91 and the test score is around 0.79. The model seems to be performing slightly under the benchmark as it is below benchmark score of 80%. It is likely that the model is overfitted.\n",
    "\n",
    "\n",
    "* Compared to lr_cvec, lr_cvec is perfoming better (test score of lr_cvec: 87% vs nb_tvec: 79%).\n",
    "\n",
    "\n",
    "* The model will not be evaluated further due to likely overfitting."
   ]
  },
  {
   "cell_type": "markdown",
   "metadata": {},
   "source": [
    "### Summary table for nb_cvec, nb_tvec, lr_cvec, lr_tvec\n",
    "\n",
    "**Model**: Type of estimator used.\n",
    "\n",
    "\n",
    "**Vectorizer**: Type of vectorizer used, either CountVectorizer `(cvec)` or TF-IDF Vectorizer `(tvec)`.\n",
    "\n",
    "\n",
    "**Baseline**: Accuracy score obtained by using trained model to predict on `train` data.\n",
    "\n",
    "\n",
    "**Validate**: Accuracy score obtained by using trained model to predict on `validate` data.\n",
    "\n",
    "\n",
    "\n",
    "|Model|Vectorizer|Baseline (%)|Validate (%)|\n",
    "|---|---|---|---|\n",
    "|NaiveBayes Multinomial|cvec|91|82|\n",
    "|NaiveBayes Multinomial|tvec|87|76|\n",
    "|Logistic Regression|cvec|95|87|\n",
    "|Logistic Regression|tvec|91|79|"
   ]
  },
  {
   "cell_type": "markdown",
   "metadata": {},
   "source": [
    "# Results"
   ]
  },
  {
   "cell_type": "markdown",
   "metadata": {},
   "source": [
    "## Plot confusion matrix for Logistic Regression (lr) models vectorized with CountVectorizer (cvec) "
   ]
  },
  {
   "cell_type": "markdown",
   "metadata": {},
   "source": [
    "* lr_cvec has the highest test accuracy score.\n",
    "\n",
    "\n",
    "* Further analysis using the confusion matrix will be done below."
   ]
  },
  {
   "cell_type": "markdown",
   "metadata": {},
   "source": [
    "### Calculate the metrics for lr_cvec"
   ]
  },
  {
   "cell_type": "code",
   "execution_count": 144,
   "metadata": {},
   "outputs": [
    {
     "name": "stdout",
     "output_type": "stream",
     "text": [
      "No. of Anxiety posts predicted correctly is 411.\n",
      "No. of Depression posts predicted correctly is 451.\n",
      "No. of Depression posts predicted wrongly is 11.\n",
      "No. of Anxiety posts predicted wrongly is 30.\n"
     ]
    }
   ],
   "source": [
    "# baseline predictions\n",
    "tn, fp, fn, tp = confusion_matrix(y_train, lr_cvec.predict(X_train_cvec)).ravel()\n",
    "print(f'No. of Anxiety posts predicted correctly is {tn}.')\n",
    "print(f'No. of Depression posts predicted correctly is {tp}.')\n",
    "print(f'No. of Depression posts predicted wrongly is {fn}.')\n",
    "print(f'No. of Anxiety posts predicted wrongly is {fp}.')"
   ]
  },
  {
   "cell_type": "code",
   "execution_count": 145,
   "metadata": {},
   "outputs": [
    {
     "name": "stdout",
     "output_type": "stream",
     "text": [
      "lr_cvec accuracy baseline score is 0.9546\n"
     ]
    }
   ],
   "source": [
    "# Accuracy\n",
    "print('lr_cvec accuracy baseline score is', round((tp+tn)/(tn+fp+fn+tp), 5))"
   ]
  },
  {
   "cell_type": "code",
   "execution_count": 146,
   "metadata": {},
   "outputs": [
    {
     "name": "stdout",
     "output_type": "stream",
     "text": [
      "lr_cvec specificity baseline score is 0.93197\n"
     ]
    }
   ],
   "source": [
    "# Specificity (Anxiety)\n",
    "print('lr_cvec specificity baseline score is', round(tn/(tn+fp),5))"
   ]
  },
  {
   "cell_type": "code",
   "execution_count": 147,
   "metadata": {},
   "outputs": [
    {
     "name": "stdout",
     "output_type": "stream",
     "text": [
      "lr_cvec sensitivity baseline score is 0.97619\n"
     ]
    }
   ],
   "source": [
    "# Sensitivity (Depression)\n",
    "print('lr_cvec sensitivity baseline score is', round(tp/(tp+fn),5))"
   ]
  },
  {
   "cell_type": "code",
   "execution_count": 148,
   "metadata": {},
   "outputs": [
    {
     "name": "stdout",
     "output_type": "stream",
     "text": [
      "No. of Anxiety posts predicted correctly is 120.\n",
      "No. of Depression posts predicted correctly is 142.\n",
      "No. of Depression posts predicted wrongly is 12.\n",
      "No. of Anxiety posts predicted wrongly is 27.\n"
     ]
    }
   ],
   "source": [
    "# validate predictions\n",
    "tn, fp, fn, tp = confusion_matrix(y_test, lr_cvec.predict(X_test_cvec)).ravel()\n",
    "print(f'No. of Anxiety posts predicted correctly is {tn}.')\n",
    "print(f'No. of Depression posts predicted correctly is {tp}.')\n",
    "print(f'No. of Depression posts predicted wrongly is {fn}.')\n",
    "print(f'No. of Anxiety posts predicted wrongly is {fp}.')"
   ]
  },
  {
   "cell_type": "code",
   "execution_count": 149,
   "metadata": {},
   "outputs": [
    {
     "name": "stdout",
     "output_type": "stream",
     "text": [
      "lr_cvec accuracy test score is 0.87043\n"
     ]
    }
   ],
   "source": [
    "# Accuracy\n",
    "print('lr_cvec accuracy test score is', round((tp+tn)/(tn+fp+fn+tp), 5))"
   ]
  },
  {
   "cell_type": "code",
   "execution_count": 150,
   "metadata": {},
   "outputs": [
    {
     "name": "stdout",
     "output_type": "stream",
     "text": [
      "lr_cvec specificity test score is 0.81633\n"
     ]
    }
   ],
   "source": [
    "# Specificity (Anxiety)\n",
    "print('lr_cvec specificity test score is', round(tn/(tn+fp),5))"
   ]
  },
  {
   "cell_type": "code",
   "execution_count": 151,
   "metadata": {},
   "outputs": [
    {
     "name": "stdout",
     "output_type": "stream",
     "text": [
      "lr_cvec sensitivity test score is 0.92208\n"
     ]
    }
   ],
   "source": [
    "# Sensitivity (Depression)\n",
    "print('lr_cvec sensitivity test score is', round(tp/(tp+fn),5))"
   ]
  },
  {
   "cell_type": "markdown",
   "metadata": {},
   "source": [
    "### Plot confusion matrix for lr_cvec test score."
   ]
  },
  {
   "cell_type": "code",
   "execution_count": 152,
   "metadata": {},
   "outputs": [
    {
     "data": {
      "image/png": "[encoded data removed]",
      "text/plain": [
       "<Figure size 864x432 with 4 Axes>"
      ]
     },
     "metadata": {
      "needs_background": "light"
     },
     "output_type": "display_data"
    }
   ],
   "source": [
    "fig, ax = plt.subplots(nrows=1, ncols=2, figsize=(12,6))\n",
    "\n",
    "ax = ax.ravel()\n",
    "\n",
    "ax[0].set_title('Confusion Matrix for Depression and Anxiety sub-reddits', fontsize = 12, fontweight = 'bold', pad = 100.0, loc = 'center')\n",
    "ax[1].set_title('Normalized Confusion Matrix for Depression and Anxiety sub-reddits', fontsize = 12, fontweight = 'bold', pad = 100.0, loc = 'center')\n",
    "\n",
    "plot_confusion_matrix(lr_cvec, X_test_cvec, y_test, cmap='OrRd', \n",
    "                        display_labels = ('anxiety', 'depression'), \n",
    "                        normalize = None, ax = ax[0])\n",
    "\n",
    "plot_confusion_matrix(lr_cvec, X_test_cvec, y_test, cmap='OrRd', \n",
    "                        display_labels = ('anxiety', 'depression'), \n",
    "                        normalize = 'true', ax = ax[1])\n",
    "\n",
    "plt.tight_layout(w_pad = 15.0)"
   ]
  },
  {
   "cell_type": "markdown",
   "metadata": {},
   "source": [
    "* Proportion of class 1 (Depression) and class 0 (Anxiety) in validate data."
   ]
  },
  {
   "cell_type": "code",
   "execution_count": 153,
   "metadata": {},
   "outputs": [
    {
     "data": {
      "text/plain": [
       "1    154\n",
       "0    147\n",
       "Name: dep_or_an, dtype: int64"
      ]
     },
     "execution_count": 153,
     "metadata": {},
     "output_type": "execute_result"
    }
   ],
   "source": [
    "# numerical value\n",
    "y_test.value_counts(normalize = False)"
   ]
  },
  {
   "cell_type": "code",
   "execution_count": 154,
   "metadata": {},
   "outputs": [
    {
     "data": {
      "text/plain": [
       "1    0.511628\n",
       "0    0.488372\n",
       "Name: dep_or_an, dtype: float64"
      ]
     },
     "execution_count": 154,
     "metadata": {},
     "output_type": "execute_result"
    }
   ],
   "source": [
    "# percentage\n",
    "y_test.value_counts(normalize = True)"
   ]
  },
  {
   "cell_type": "markdown",
   "metadata": {},
   "source": [
    "### Results for lr_cvec\n",
    "\n",
    "* Depression = 1\n",
    "* Anxiety = 0\n",
    "\n",
    "- In the validation dataset, there were 154 posts from Depression sub-reddit and 147 posts from Anxiety sub-reddit. 51% of the posts are from Depression and 49% are from Anxiety.\n",
    "\n",
    "\n",
    "- Out of the 154 Depression posts, 142 are correctly predicted. 12 posts are incorrectly predicted as Anxiety posts.\n",
    "- Out of the 147 Anxiety posts, 120 are correctly predicted. 27 posts are incorrectly predicted as Depression posts.\n",
    "\n",
    "\n",
    "- **The test score for Accuracy for the model is 87.0%.**\n",
    "\n",
    "- **The test score for Specificity to predict Anxiety posts is 93.1%.**\n",
    "\n",
    "- **The test score for Sensitivity to predict Depression posts is 97.6%.**"
   ]
  },
  {
   "cell_type": "markdown",
   "metadata": {},
   "source": [
    "# Recommendations and Conclusion"
   ]
  },
  {
   "cell_type": "markdown",
   "metadata": {},
   "source": [
    "**Recommendations**\n",
    "\n",
    "\n",
    "From the models built, lr_cvec has the highest accuracy. It can be utilized to identify posts from individuals showing signs or symptoms of depression or anxiety. If the text is about depression, lr_cvec can predict with 97.6% accuracy. Whereas, if the text is about anxiety, lr_cvec can predict with 93.1% accuracy. The notable words that have a great effect in classifying the text as depression are `depression` and `depressed`, which is quite obvious. As mentioned previously, using `depression` as the example, for every 1 increase in mention of `depression` in the text, the odds of the text about depression increases by 1.77 times, if all other factors are kept constant. Other prominent words are `life`, `happy`, `kill`, `suicide`, `sad` and `suicidal`. For `life` and `happy`, if the individual mentions them a lot in their posts, it may mean that they are not happy and are thinking about their lives frequently. Some interesting words like `mom`,`friends`,`family`, `tired`, `hate` can help to classify the post.\n",
    "\n",
    "\n",
    "**Conclusion**\n",
    "\n",
    "\n",
    "Stakeholders may wish to use the model to see if it can help identify symptoms of depression or anxiety from depression or anxiety sub-reddit posts. By extrapolating to their current patients, it may help to identify if their patients are leaning towards depression or anxiety."
   ]
  },
  {
   "cell_type": "code",
   "execution_count": null,
   "metadata": {},
   "outputs": [],
   "source": []
  }
 ],
 "metadata": {
  "kernelspec": {
   "display_name": "Python 3",
   "language": "python",
   "name": "python3"
  },
  "language_info": {
   "codemirror_mode": {
    "name": "ipython",
    "version": 3
   },
   "file_extension": ".py",
   "mimetype": "text/x-python",
   "name": "python",
   "nbconvert_exporter": "python",
   "pygments_lexer": "ipython3",
   "version": "3.8.3"
  },
  "toc": {
   "base_numbering": 1,
   "nav_menu": {},
   "number_sections": true,
   "sideBar": true,
   "skip_h1_title": false,
   "title_cell": "Table of Contents",
   "title_sidebar": "Contents",
   "toc_cell": false,
   "toc_position": {
    "height": "calc(100% - 180px)",
    "left": "10px",
    "top": "150px",
    "width": "236.991px"
   },
   "toc_section_display": true,
   "toc_window_display": true
  }
 },
 "nbformat": 4,
 "nbformat_minor": 4
}
